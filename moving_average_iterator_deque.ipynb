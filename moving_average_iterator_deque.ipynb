{
  "nbformat": 4,
  "nbformat_minor": 0,
  "metadata": {
    "colab": {
      "name": "Untitled21.ipynb",
      "provenance": [],
      "authorship_tag": "ABX9TyOYA4zqAD44jFaa4ZGgdBTZ",
      "include_colab_link": true
    },
    "kernelspec": {
      "name": "python3",
      "display_name": "Python 3"
    },
    "language_info": {
      "name": "python"
    }
  },
  "cells": [
    {
      "cell_type": "markdown",
      "metadata": {
        "id": "view-in-github",
        "colab_type": "text"
      },
      "source": [
        "<a href=\"https://colab.research.google.com/github/SenolIsci/design_patterns_python/blob/main/moving_average_iterator_deque.ipynb\" target=\"_parent\"><img src=\"https://colab.research.google.com/assets/colab-badge.svg\" alt=\"Open In Colab\"/></a>"
      ]
    },
    {
      "cell_type": "code",
      "metadata": {
        "id": "aP6yXMr0bQnX"
      },
      "source": [
        "# -*- coding: utf-8 -*-\n",
        "\"\"\"\n",
        "Created on Mon Nov  8 22:31:26 2021\n",
        "\n",
        "@author: User\n",
        "\"\"\"\n",
        "from collections import deque\n",
        "import itertools\n",
        "def moving_average(iterable, n=3):\n",
        "    # moving_average([40, 30, 50, 46, 39, 44]) --> 40.0 42.0 45.0 43.0\n",
        "    # http://en.wikipedia.org/wiki/Moving_average\n",
        "    it = iter(iterable)\n",
        "    d = deque(itertools.islice(it, n))\n",
        "\n",
        "    #d.appendleft(0)\n",
        "    print(list(d))\n",
        "    s = sum(d)\n",
        "    yield s / n  \n",
        "    for elem in it:\n",
        "        s += elem - d.popleft()\n",
        "        d.append(elem)\n",
        "        yield s / n\n",
        "\n",
        "print(list(moving_average([40, 30, 50, 46, 39, 44])))"
      ],
      "execution_count": null,
      "outputs": []
    }
  ]
}