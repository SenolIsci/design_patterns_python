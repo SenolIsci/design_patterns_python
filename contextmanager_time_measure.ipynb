{
  "nbformat": 4,
  "nbformat_minor": 0,
  "metadata": {
    "colab": {
      "name": "Untitled30.ipynb",
      "provenance": [],
      "authorship_tag": "ABX9TyMcccdgxU668bhFMUmMjtdl",
      "include_colab_link": true
    },
    "kernelspec": {
      "name": "python3",
      "display_name": "Python 3"
    },
    "language_info": {
      "name": "python"
    }
  },
  "cells": [
    {
      "cell_type": "markdown",
      "metadata": {
        "id": "view-in-github",
        "colab_type": "text"
      },
      "source": [
        "<a href=\"https://colab.research.google.com/github/SenolIsci/design_patterns_python/blob/main/contextmanager_time_measure.ipynb\" target=\"_parent\"><img src=\"https://colab.research.google.com/assets/colab-badge.svg\" alt=\"Open In Colab\"/></a>"
      ]
    },
    {
      "cell_type": "code",
      "source": [
        "import numpy as np"
      ],
      "metadata": {
        "id": "sU6NX1XO6ne9"
      },
      "execution_count": 31,
      "outputs": []
    },
    {
      "cell_type": "code",
      "source": [
        "import timeit\n",
        "from time import perf_counter\n",
        "from contextlib import contextmanager\n"
      ],
      "metadata": {
        "id": "c6jXSQBB7kXn"
      },
      "execution_count": 44,
      "outputs": []
    },
    {
      "cell_type": "code",
      "execution_count": 54,
      "metadata": {
        "id": "xkICvm1f47f1"
      },
      "outputs": [],
      "source": [
        "\n",
        "def less_than_10(x):\n",
        "  if x<10:\n",
        "    return x"
      ]
    },
    {
      "cell_type": "code",
      "source": [
        "@contextmanager\n",
        "def catchtime() -> float:\n",
        "    start = perf_counter()\n",
        "    end = start\n",
        "    yield lambda: end - start\n",
        "    end = perf_counter()"
      ],
      "metadata": {
        "id": "P7ZCgWcXAarL"
      },
      "execution_count": 51,
      "outputs": []
    },
    {
      "cell_type": "code",
      "source": [
        "data_as_array=np.random.randint(100, size=(1000000))"
      ],
      "metadata": {
        "id": "wQPWRgU9-keS"
      },
      "execution_count": 82,
      "outputs": []
    },
    {
      "cell_type": "code",
      "source": [
        "data_as_list=data_as_array.tolist()"
      ],
      "metadata": {
        "id": "KCACxK7P-ssH"
      },
      "execution_count": 83,
      "outputs": []
    },
    {
      "cell_type": "code",
      "source": [
        "with catchtime() as t:\n",
        "  list(filter(less_than_10,data_as_list))\n",
        "print(f\"Execution time: {t():.6f} secs\")"
      ],
      "metadata": {
        "colab": {
          "base_uri": "https://localhost:8080/"
        },
        "id": "gfErWdAT6Pb3",
        "outputId": "b49291a7-6761-4090-9c1b-23cad3db59cd"
      },
      "execution_count": 85,
      "outputs": [
        {
          "output_type": "stream",
          "name": "stdout",
          "text": [
            "Execution time: 0.114491 secs\n"
          ]
        }
      ]
    },
    {
      "cell_type": "code",
      "source": [
        "with catchtime() as t:\n",
        "  data_as_array[data_as_array<10]\n",
        "print(f\"Execution time: {t():.6f} secs\")"
      ],
      "metadata": {
        "colab": {
          "base_uri": "https://localhost:8080/"
        },
        "id": "tmRFkP6E7Nkw",
        "outputId": "941034a9-759d-43a4-9e6d-db6d1006e430"
      },
      "execution_count": 84,
      "outputs": [
        {
          "output_type": "stream",
          "name": "stdout",
          "text": [
            "Execution time: 0.006477 secs\n"
          ]
        }
      ]
    },
    {
      "cell_type": "code",
      "source": [
        ""
      ],
      "metadata": {
        "id": "cPmxDqr77Sox"
      },
      "execution_count": null,
      "outputs": []
    }
  ]
}