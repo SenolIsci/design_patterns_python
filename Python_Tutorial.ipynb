{
  "nbformat": 4,
  "nbformat_minor": 0,
  "metadata": {
    "colab": {
      "name": "Copy of Untitled16.ipynb",
      "provenance": [],
      "collapsed_sections": [],
      "authorship_tag": "ABX9TyMMgVqUB9tC4kUXPhlcJ76u",
      "include_colab_link": true
    },
    "kernelspec": {
      "name": "python3",
      "display_name": "Python 3"
    },
    "language_info": {
      "name": "python"
    }
  },
  "cells": [
    {
      "cell_type": "markdown",
      "metadata": {
        "id": "view-in-github",
        "colab_type": "text"
      },
      "source": [
        "<a href=\"https://colab.research.google.com/github/SenolIsci/design_patterns_python/blob/main/Python_Tutorial.ipynb\" target=\"_parent\"><img src=\"https://colab.research.google.com/assets/colab-badge.svg\" alt=\"Open In Colab\"/></a>"
      ]
    },
    {
      "cell_type": "markdown",
      "metadata": {
        "id": "FuPdEZQFcahw"
      },
      "source": [
        "# **PYTHON TUTORIAL NOTES**\n",
        "\n",
        "\n",
        "---\n",
        "\n"
      ]
    },
    {
      "cell_type": "code",
      "metadata": {
        "colab": {
          "base_uri": "https://localhost:8080/"
        },
        "id": "rkyLlXc_9jpv",
        "outputId": "41e81189-64ac-4c84-fcaf-975a93aa5cca"
      },
      "source": [
        "help(\"keywords\")"
      ],
      "execution_count": null,
      "outputs": [
        {
          "output_type": "stream",
          "name": "stdout",
          "text": [
            "\n",
            "Here is a list of the Python keywords.  Enter any keyword to get more help.\n",
            "\n",
            "False               class               from                or\n",
            "None                continue            global              pass\n",
            "True                def                 if                  raise\n",
            "and                 del                 import              return\n",
            "as                  elif                in                  try\n",
            "assert              else                is                  while\n",
            "async               except              lambda              with\n",
            "await               finally             nonlocal            yield\n",
            "break               for                 not                 \n",
            "\n"
          ]
        }
      ]
    },
    {
      "cell_type": "markdown",
      "metadata": {
        "id": "OzDZwVC39lMA"
      },
      "source": [
        "with statement is used to wrap the execution of a block of code within methods defined by the context manager.\n",
        "\n",
        "Context manager is a class that implements __enter__ and __exit__ methods. Use of with statement ensures that the __exit__ method is called at the end of the nested block. This concept is similar to the use of try…finally block. Here, is an example."
      ]
    },
    {
      "cell_type": "code",
      "metadata": {
        "id": "WqqrraC-9pOh"
      },
      "source": [
        "import os\n",
        "\n",
        "with os.scandir(\".\") as entries:\n",
        "    for entry in entries:\n",
        "        print(entry.name, \"->\", entry.stat().st_size, \"bytes\")"
      ],
      "execution_count": null,
      "outputs": []
    },
    {
      "cell_type": "code",
      "metadata": {
        "id": "Ai65GDnf_kGy"
      },
      "source": [
        "import sys\n",
        "\n",
        "class RedirectedStdout1:\n",
        "    def __init__(self, new_output):\n",
        "        self.new_output = new_output\n",
        "\n",
        "    def __enter__(self):\n",
        "        self.saved_output = sys.stdout\n",
        "        sys.stdout = self.new_output\n",
        "\n",
        "    def __exit__(self, exc_type, exc_val, exc_tb):\n",
        "        sys.stdout = self.saved_output"
      ],
      "execution_count": null,
      "outputs": []
    },
    {
      "cell_type": "markdown",
      "metadata": {
        "id": "eYZff_fdDW0T"
      },
      "source": [
        "Creating Function-Based Context Managers\n",
        "Python’s generator functions and the contextlib.contextmanager decorator provide an alternative and convenient way to implement the context management protocol. "
      ]
    },
    {
      "cell_type": "code",
      "metadata": {
        "id": "H1ozI95VBJdL"
      },
      "source": [
        "from contextlib import contextmanager\n",
        "\n",
        "@contextmanager\n",
        "def RedirectedStdout2(new_output):\n",
        "  saved_output=sys.stdout\n",
        "  sys.stdout = new_output\n",
        "  yield\n",
        "  sys.stdout=saved_output"
      ],
      "execution_count": null,
      "outputs": []
    },
    {
      "cell_type": "code",
      "metadata": {
        "colab": {
          "base_uri": "https://localhost:8080/"
        },
        "id": "bh1en4wXA9PJ",
        "outputId": "2011e409-953a-4258-ce71-3f0f1a178c63"
      },
      "source": [
        "\n",
        "with open(\"hello.txt\", \"w\") as file:\n",
        "    with RedirectedStdout1(file):\n",
        "        print(\"Hello, World!\")\n",
        "    print(\"Back to the standard output...\")"
      ],
      "execution_count": null,
      "outputs": [
        {
          "output_type": "stream",
          "name": "stdout",
          "text": [
            "Back to the standard output...\n"
          ]
        }
      ]
    },
    {
      "cell_type": "code",
      "metadata": {
        "colab": {
          "base_uri": "https://localhost:8080/"
        },
        "id": "ThbIX7CFCZKv",
        "outputId": "2d9726c8-6186-4868-8499-25c04a9a0145"
      },
      "source": [
        "\n",
        "with open(\"hello.txt\", \"w\") as file:\n",
        "    with RedirectedStdout2(file):\n",
        "        print(\"Hello, World!\")\n",
        "    print(\"Back to the standard output...\")"
      ],
      "execution_count": null,
      "outputs": [
        {
          "output_type": "stream",
          "name": "stdout",
          "text": [
            "Back to the standard output...\n"
          ]
        }
      ]
    },
    {
      "cell_type": "code",
      "metadata": {
        "id": "nod2kMDbDJSG"
      },
      "source": [
        "from contextlib import contextmanager\n",
        "\n",
        "@contextmanager\n",
        "def writable_file(file_path):\n",
        "    file = open(file_path, mode=\"w\")\n",
        "    try:\n",
        "        yield file\n",
        "    finally:\n",
        "        file.close()\n",
        "\n",
        "\n",
        "with writable_file(\"hello.txt\") as file:\n",
        "    file.write(\"Hello, World!\")"
      ],
      "execution_count": null,
      "outputs": []
    },
    {
      "cell_type": "markdown",
      "metadata": {
        "id": "vs-IAoGQFQoy"
      },
      "source": [
        "Measuring Execution Time\n",
        "Just like every other class, a context manager can encapsulate some internal state. The following example shows how to create a stateful context manager to measure the execution time of a given code block or function:"
      ]
    },
    {
      "cell_type": "code",
      "metadata": {
        "colab": {
          "base_uri": "https://localhost:8080/"
        },
        "id": "hiWstgwLE2qt",
        "outputId": "3582ff14-8d77-4089-96a8-2266196654c1"
      },
      "source": [
        "from time import perf_counter\n",
        "\n",
        "class Timer:\n",
        "    def __enter__(self):\n",
        "        self.start = perf_counter()\n",
        "        self.end = 0.0\n",
        "        return lambda: self.end - self.start\n",
        "\n",
        "    def __exit__(self, *args):\n",
        "        self.end = perf_counter()\n",
        "        print(\"Timer:\",self.end - self.start)\n",
        "\n",
        "from time import sleep\n",
        "\n",
        "with Timer():\n",
        "    # Time-consuming code goes here...\n",
        "    sleep(0.5)\n"
      ],
      "execution_count": null,
      "outputs": [
        {
          "output_type": "stream",
          "name": "stdout",
          "text": [
            "Timer: 0.5005657719998453\n"
          ]
        }
      ]
    },
    {
      "cell_type": "code",
      "metadata": {
        "colab": {
          "base_uri": "https://localhost:8080/"
        },
        "id": "PZnYgxSyFc0X",
        "outputId": "6db12125-6575-44e1-87e9-a561cc58012d"
      },
      "source": [
        "from time import perf_counter\n",
        "from contextlib import contextmanager\n",
        "\n",
        "@contextmanager\n",
        "def Timer():\n",
        "  start = perf_counter()\n",
        "  yield\n",
        "  end = perf_counter()\n",
        "  print(\"Timer:\",end - start)\n",
        "\n",
        "from time import sleep\n",
        "\n",
        "with Timer():\n",
        "    # Time-consuming code goes here...\n",
        "    sleep(0.5)"
      ],
      "execution_count": null,
      "outputs": [
        {
          "output_type": "stream",
          "name": "stdout",
          "text": [
            "Timer: 0.5015047199999572\n"
          ]
        }
      ]
    },
    {
      "cell_type": "markdown",
      "metadata": {
        "id": "ZMs0LdEJZtTk"
      },
      "source": [
        "for loop with else\n",
        "A for loop can have an optional else block as well. The else part is executed if the items in the sequence used in for loop exhausts.\n",
        "\n",
        "The break keyword can be used to stop a for loop. In such cases, the else part is ignored.\n",
        "\n",
        "Hence, a for loop's else part runs if no break occurs.\n",
        "\n",
        "Here is an example to illustrate this.\n",
        "\n"
      ]
    },
    {
      "cell_type": "code",
      "metadata": {
        "colab": {
          "base_uri": "https://localhost:8080/"
        },
        "id": "Gkowy71JZuMT",
        "outputId": "d2ad6c67-4d26-42ec-a467-a7f6a62e8192"
      },
      "source": [
        "digits = [0, 1, 5]\n",
        "\n",
        "for i in digits:\n",
        "    print(i)\n",
        "else:\n",
        "    print(\"No items left.\")"
      ],
      "execution_count": null,
      "outputs": [
        {
          "output_type": "stream",
          "name": "stdout",
          "text": [
            "0\n",
            "1\n",
            "5\n",
            "No items left.\n"
          ]
        }
      ]
    },
    {
      "cell_type": "markdown",
      "metadata": {
        "id": "1HCm10JobWLd"
      },
      "source": [
        "While loop with else\n",
        "Same as with for loops, while loops can also have an optional else block.\n",
        "\n",
        "The else part is executed if the condition in the while loop evaluates to False.\n",
        "\n",
        "The while loop can be terminated with a break statement. In such cases, the else part is ignored. Hence, a while loop's else part runs if no break occurs and the condition is false."
      ]
    },
    {
      "cell_type": "code",
      "metadata": {
        "colab": {
          "base_uri": "https://localhost:8080/"
        },
        "id": "YtB80E_fbVp9",
        "outputId": "e8427f61-cb70-421f-f54d-38de8a54bfc3"
      },
      "source": [
        "'''Example to illustrate\n",
        "the use of else statement\n",
        "with the while loop'''\n",
        "\n",
        "counter = 0\n",
        "\n",
        "while counter < 3:\n",
        "    print(\"Inside loop\")\n",
        "    counter = counter + 1\n",
        "else:\n",
        "    print(\"Inside else\")"
      ],
      "execution_count": null,
      "outputs": [
        {
          "output_type": "stream",
          "name": "stdout",
          "text": [
            "Inside loop\n",
            "Inside loop\n",
            "Inside loop\n",
            "Inside else\n"
          ]
        }
      ]
    },
    {
      "cell_type": "markdown",
      "metadata": {
        "id": "G9hPhSNWcxWl"
      },
      "source": [
        "# Python Arbitrary Arguments\n",
        "Sometimes, we do not know in advance the number of arguments that will be passed into a function. Python allows us to handle this kind of situation through function calls with an arbitrary number of arguments.\n",
        "\n",
        "In the function definition, we use an asterisk (*) before the parameter name to denote this kind of argument. Here is an example."
      ]
    },
    {
      "cell_type": "code",
      "metadata": {
        "colab": {
          "base_uri": "https://localhost:8080/"
        },
        "id": "m36SQVfCcyer",
        "outputId": "bd73c302-9727-4b42-b933-b03ce93f3457"
      },
      "source": [
        "def greet(*names):\n",
        "    \"\"\"This function greets all\n",
        "    the person in the names tuple.\"\"\"\n",
        "\n",
        "    # names is a tuple with arguments\n",
        "    for name in names:\n",
        "        print(\"Hello\", name)\n",
        "\n",
        "\n",
        "greet(\"Monica\", \"Luke\", \"Steve\", \"John\")"
      ],
      "execution_count": null,
      "outputs": [
        {
          "output_type": "stream",
          "name": "stdout",
          "text": [
            "Hello Monica\n",
            "Hello Luke\n",
            "Hello Steve\n",
            "Hello John\n"
          ]
        }
      ]
    },
    {
      "cell_type": "markdown",
      "metadata": {
        "id": "Y7qO_dSroEm5"
      },
      "source": [
        "# What are lambda functions in Python?\n",
        "In Python, an anonymous function is a function that is defined without a name.\n",
        "\n",
        "While normal functions are defined using the def keyword in Python, anonymous functions are defined using the lambda keyword.\n",
        "\n",
        "Hence, anonymous functions are also called lambda functions."
      ]
    },
    {
      "cell_type": "code",
      "metadata": {
        "colab": {
          "base_uri": "https://localhost:8080/"
        },
        "id": "0DMYx21MoH_Y",
        "outputId": "dca10111-9c6a-4c05-bbe0-302847b5cfa8"
      },
      "source": [
        "# Program to show the use of lambda functions\n",
        "double = lambda x=0: x * 2\n",
        "\n",
        "print(double())\n",
        "print(double(5))"
      ],
      "execution_count": null,
      "outputs": [
        {
          "output_type": "stream",
          "name": "stdout",
          "text": [
            "0\n",
            "10\n"
          ]
        }
      ]
    },
    {
      "cell_type": "code",
      "metadata": {
        "colab": {
          "base_uri": "https://localhost:8080/"
        },
        "id": "dRacMhpwrTNi",
        "outputId": "d7ab5bbd-4aaf-4787-ff45-4713b30f9e9a"
      },
      "source": [
        "summe=lambda *x: sum(i for i in x)\n",
        "\n",
        "print(summe(5,6,7))\n"
      ],
      "execution_count": null,
      "outputs": [
        {
          "output_type": "stream",
          "name": "stdout",
          "text": [
            "18\n"
          ]
        }
      ]
    },
    {
      "cell_type": "markdown",
      "metadata": {
        "id": "9v_WgBwoo5ZH"
      },
      "source": [
        "# Use of Lambda Function in python\n",
        "We use lambda functions when we require a nameless function for a short period of time.\n",
        "\n",
        "In Python, we generally use it as an argument to a higher-order function (a function that takes in other functions as arguments). Lambda functions are used along with built-in functions like filter(), map() etc."
      ]
    },
    {
      "cell_type": "code",
      "metadata": {
        "colab": {
          "base_uri": "https://localhost:8080/"
        },
        "id": "Vz1at5zso_ZF",
        "outputId": "33e43d09-db3e-41df-cfa9-e279a351ced5"
      },
      "source": [
        "# Program to filter out only the even items from a list\n",
        "my_list = [1, 5, 4, 6, 8, 11, 3, 12]\n",
        "\n",
        "new_list = list(filter(lambda x: (x%2 == 0) , my_list))\n",
        "\n",
        "print(new_list)"
      ],
      "execution_count": null,
      "outputs": [
        {
          "output_type": "stream",
          "name": "stdout",
          "text": [
            "[4, 6, 8, 12]\n"
          ]
        }
      ]
    },
    {
      "cell_type": "code",
      "metadata": {
        "colab": {
          "base_uri": "https://localhost:8080/"
        },
        "id": "6mqjyOCErold",
        "outputId": "a0fe1f62-00b1-4f24-d660-59bce7be91c1"
      },
      "source": [
        "# Program to double each item in a list using map()\n",
        "\n",
        "my_list = [1, 5, 4, 6, 8, 11, 3, 12]\n",
        "\n",
        "new_list = list(map(lambda x: x * 2 , my_list))\n",
        "\n",
        "print(new_list)"
      ],
      "execution_count": null,
      "outputs": [
        {
          "output_type": "stream",
          "name": "stdout",
          "text": [
            "[2, 10, 8, 12, 16, 22, 6, 24]\n"
          ]
        }
      ]
    },
    {
      "cell_type": "markdown",
      "metadata": {
        "id": "ln4GP0BGvFu-"
      },
      "source": [
        "# Global in Nested Functions\n",
        "Here is how you can use a global variable in nested function."
      ]
    },
    {
      "cell_type": "code",
      "metadata": {
        "colab": {
          "base_uri": "https://localhost:8080/"
        },
        "id": "OHyfb9mzvH6I",
        "outputId": "7b317f6f-049b-484d-cb9a-0d856133fae8"
      },
      "source": [
        "def foo():\n",
        "    x = 20\n",
        "\n",
        "    def bar():\n",
        "        global x\n",
        "        x = 25\n",
        "    \n",
        "    print(\"Before calling bar: \", x)\n",
        "    print(\"Calling bar now\")\n",
        "    bar()\n",
        "    print(\"After calling bar: \", x)\n",
        "\n",
        "foo()\n",
        "print(\"x in main: \", x)\n"
      ],
      "execution_count": null,
      "outputs": [
        {
          "output_type": "stream",
          "name": "stdout",
          "text": [
            "Before calling bar:  20\n",
            "Calling bar now\n",
            "After calling bar:  20\n",
            "x in main:  25\n"
          ]
        }
      ]
    },
    {
      "cell_type": "markdown",
      "metadata": {
        "id": "wc0GMpJ_w3BF"
      },
      "source": [
        "In the above program, we declared a global variable inside the nested function bar(). Inside foo() function, x has no effect of the global keyword.\n",
        "\n",
        "Before and after calling bar(), the variable x takes the value of local variable i.e x = 20. Outside of the foo() function, the variable x will take value defined in the bar() function i.e x = 25. This is because we have used global keyword in x to create global variable inside the bar() function (local scope).\n",
        "\n",
        "If we make any changes inside the bar() function, the changes appear outside the local scope, i.e. foo()."
      ]
    },
    {
      "cell_type": "code",
      "metadata": {
        "colab": {
          "base_uri": "https://localhost:8080/"
        },
        "id": "_Ygzd0kwxyov",
        "outputId": "f3bab06b-3ef1-4f18-b2ed-ae67fb213d82"
      },
      "source": [
        "def add():\n",
        "    global c\n",
        "    c = 2 # set to 2\n",
        "    print(\"Inside add():\", c)\n",
        "\n",
        "add()\n",
        "print(\"In main:\", c)"
      ],
      "execution_count": null,
      "outputs": [
        {
          "output_type": "stream",
          "name": "stdout",
          "text": [
            "Inside add(): 2\n",
            "In main: 2\n"
          ]
        }
      ]
    },
    {
      "cell_type": "code",
      "metadata": {
        "id": "0OuNE_Wcxyhz"
      },
      "source": [
        ""
      ],
      "execution_count": null,
      "outputs": []
    },
    {
      "cell_type": "markdown",
      "metadata": {
        "id": "fgG1OiQ-hsv6"
      },
      "source": [
        "# Python Mathematics\n",
        "Python offers modules like math and random to carry out different mathematics like trigonometry, logarithms, probability and statistics, etc."
      ]
    },
    {
      "cell_type": "code",
      "metadata": {
        "colab": {
          "base_uri": "https://localhost:8080/"
        },
        "id": "8kkMFn1whuf4",
        "outputId": "923838f7-82e4-46aa-e441-014a41d7ad7d"
      },
      "source": [
        "import math\n",
        "\n",
        "print(math.pi)\n",
        "\n",
        "print(math.cos(math.pi))\n",
        "\n",
        "print(math.exp(10))\n",
        "\n",
        "print(math.log10(1000))\n",
        "\n",
        "print(math.sinh(1))\n",
        "\n",
        "print(math.factorial(6))"
      ],
      "execution_count": 1,
      "outputs": [
        {
          "output_type": "stream",
          "name": "stdout",
          "text": [
            "3.141592653589793\n",
            "-1.0\n",
            "22026.465794806718\n",
            "3.0\n",
            "1.1752011936438014\n",
            "720\n"
          ]
        }
      ]
    },
    {
      "cell_type": "code",
      "metadata": {
        "colab": {
          "base_uri": "https://localhost:8080/"
        },
        "id": "lRwZ1Gofh9DO",
        "outputId": "124f61ee-6aba-4585-9e04-970e18ad711c"
      },
      "source": [
        "import random\n",
        "\n",
        "print(random.randrange(10, 20))\n",
        "\n",
        "x = ['a', 'b', 'c', 'd', 'e']\n",
        "\n",
        "# Get random choice\n",
        "print(random.choice(x))\n",
        "\n",
        "# Shuffle x\n",
        "random.shuffle(x)\n",
        "\n",
        "# Print the shuffled x\n",
        "print(x)\n",
        "\n",
        "# Print random element\n",
        "print(random.random())"
      ],
      "execution_count": 2,
      "outputs": [
        {
          "output_type": "stream",
          "name": "stdout",
          "text": [
            "15\n",
            "d\n",
            "['d', 'e', 'c', 'b', 'a']\n",
            "0.11926395145164737\n"
          ]
        }
      ]
    },
    {
      "cell_type": "markdown",
      "metadata": {
        "id": "Cnghpk_qAog5"
      },
      "source": [
        "# List\n",
        "\n",
        "Furthermore, we can insert one item at a desired location by using the method insert() or insert multiple items by squeezing it into an empty slice of a list."
      ]
    },
    {
      "cell_type": "code",
      "metadata": {
        "colab": {
          "base_uri": "https://localhost:8080/"
        },
        "id": "UuVxiKEABF7B",
        "outputId": "da6bb9dd-878f-43b7-88e9-943699967443"
      },
      "source": [
        "# Appending and Extending lists in Python\n",
        "odd = [1, 3, 5]\n",
        "\n",
        "odd.append(7)\n",
        "\n",
        "print(odd)\n",
        "\n",
        "odd.extend([9, 11, 13])\n",
        "\n",
        "print(odd)"
      ],
      "execution_count": 2,
      "outputs": [
        {
          "output_type": "stream",
          "name": "stdout",
          "text": [
            "[1, 3, 5, 7]\n",
            "[1, 3, 5, 7, 9, 11, 13]\n"
          ]
        }
      ]
    },
    {
      "cell_type": "code",
      "metadata": {
        "colab": {
          "base_uri": "https://localhost:8080/"
        },
        "id": "rOJ8j4lyAoKx",
        "outputId": "8df7efe3-3e33-4844-d622-5c1f306207b3"
      },
      "source": [
        "# Demonstration of list insert() method\n",
        "odd = [1, 9]\n",
        "odd.insert(1,3)\n",
        "\n",
        "print(odd)\n",
        "\n",
        "odd[2:2] = [5, 7]\n",
        "\n",
        "print(odd)"
      ],
      "execution_count": 9,
      "outputs": [
        {
          "output_type": "stream",
          "name": "stdout",
          "text": [
            "[1, 3, 9]\n",
            "[1, 3, 5, 7, 9]\n"
          ]
        }
      ]
    },
    {
      "cell_type": "code",
      "metadata": {
        "colab": {
          "base_uri": "https://localhost:8080/"
        },
        "id": "e3VffH5ABSMS",
        "outputId": "b93c5126-ffb9-48d7-ee06-a97766904702"
      },
      "source": [
        "odd[4:4]=[100]\n",
        "print(odd)"
      ],
      "execution_count": 10,
      "outputs": [
        {
          "output_type": "stream",
          "name": "stdout",
          "text": [
            "[1, 3, 5, 7, 100, 9]\n"
          ]
        }
      ]
    },
    {
      "cell_type": "markdown",
      "metadata": {
        "id": "LgaBP-PGE2iX"
      },
      "source": [
        "We can replace part of a list with a bigger chunk instead:\n",
        "\n",
        "\n"
      ]
    },
    {
      "cell_type": "code",
      "metadata": {
        "colab": {
          "base_uri": "https://localhost:8080/"
        },
        "id": "1_lbk5lFE2Ac",
        "outputId": "2aa825ae-11e8-43ee-f687-28f3a9d0cd3c"
      },
      "source": [
        "nums = [10, 20, 30, 40, 50, 60, 70, 80, 90]\n",
        "nums[:4] = [1,2,3,4,5,6,7]\n",
        "print(nums)"
      ],
      "execution_count": 11,
      "outputs": [
        {
          "output_type": "stream",
          "name": "stdout",
          "text": [
            "[1, 2, 3, 4, 5, 6, 7, 50, 60, 70, 80, 90]\n"
          ]
        }
      ]
    },
    {
      "cell_type": "markdown",
      "metadata": {
        "id": "ip4eFkazFCao"
      },
      "source": [
        "It’s also possible to replace a bigger chunk with a smaller number of items"
      ]
    },
    {
      "cell_type": "code",
      "metadata": {
        "colab": {
          "base_uri": "https://localhost:8080/"
        },
        "id": "QwcgIRoBFKh1",
        "outputId": "ac6114a7-f82e-4231-8e66-8da486f59843"
      },
      "source": [
        "nums = [10, 20, 30, 40, 50, 60, 70, 80, 90]\n",
        "nums[:4] = [1]\n",
        "print(nums)\n"
      ],
      "execution_count": 12,
      "outputs": [
        {
          "output_type": "stream",
          "name": "stdout",
          "text": [
            "[1, 50, 60, 70, 80, 90]\n"
          ]
        }
      ]
    },
    {
      "cell_type": "code",
      "metadata": {
        "colab": {
          "base_uri": "https://localhost:8080/"
        },
        "id": "BTqHQhOpFg4P",
        "outputId": "e5951f88-05e6-4a4c-9381-46e578ff0c17"
      },
      "source": [
        "nums = [10, 20, 30, 40, 50, 60, 70, 80, 90]\n",
        "nums[:0] = [1,2,3,4]\n",
        "print(nums)"
      ],
      "execution_count": 13,
      "outputs": [
        {
          "output_type": "stream",
          "name": "stdout",
          "text": [
            "[1, 2, 3, 4, 10, 20, 30, 40, 50, 60, 70, 80, 90]\n"
          ]
        }
      ]
    },
    {
      "cell_type": "code",
      "metadata": {
        "colab": {
          "base_uri": "https://localhost:8080/"
        },
        "id": "hQ-XDqP2BH-n",
        "outputId": "6fd1ba54-822c-4bb3-8fad-74edd605dbd2"
      },
      "source": [
        "# Concatenating and repeating lists\n",
        "odd = [1, 3, 5]\n",
        "\n",
        "print(odd + [9, 7, 5])\n",
        "\n",
        "print([\"re\"] * 3)"
      ],
      "execution_count": 3,
      "outputs": [
        {
          "output_type": "stream",
          "name": "stdout",
          "text": [
            "[1, 3, 5, 9, 7, 5]\n",
            "['re', 're', 're']\n"
          ]
        }
      ]
    },
    {
      "cell_type": "code",
      "metadata": {
        "colab": {
          "base_uri": "https://localhost:8080/"
        },
        "id": "FpfyJnKXGrzG",
        "outputId": "3c9cda2b-31ad-462d-afa5-fa87bc2a5600"
      },
      "source": [
        "# Deleting list items\n",
        "my_list = ['p', 'r', 'o', 'b', 'l', 'e', 'm']\n",
        "\n",
        "# delete one item\n",
        "del my_list[2]\n",
        "\n",
        "print(my_list)\n",
        "\n",
        "# delete multiple items\n",
        "del my_list[1:5]\n",
        "\n",
        "print(my_list)\n",
        "\n",
        "# delete entire list\n",
        "del my_list\n"
      ],
      "execution_count": 14,
      "outputs": [
        {
          "output_type": "stream",
          "name": "stdout",
          "text": [
            "['p', 'r', 'b', 'l', 'e', 'm']\n",
            "['p', 'm']\n"
          ]
        }
      ]
    },
    {
      "cell_type": "markdown",
      "metadata": {
        "id": "1084ZelnIBbA"
      },
      "source": [
        "Finally, we can also delete items in a list by assigning an empty list to a slice of elements."
      ]
    },
    {
      "cell_type": "code",
      "metadata": {
        "colab": {
          "base_uri": "https://localhost:8080/"
        },
        "id": "SMDQgpt4ICl1",
        "outputId": "29a5d938-e5b6-439a-fe78-ff60a7c6e768"
      },
      "source": [
        "my_list = ['p','r','o','b','l','e','m']\n",
        "my_list[2:3] = []\n",
        "print(my_list)\n",
        "#['p', 'r', 'b', 'l', 'e', 'm']\n",
        "my_list[2:5] = []\n",
        "print(my_list)\n",
        "#['p', 'r', 'm']"
      ],
      "execution_count": 16,
      "outputs": [
        {
          "output_type": "stream",
          "name": "stdout",
          "text": [
            "['p', 'r', 'b', 'l', 'e', 'm']\n",
            "['p', 'r', 'm']\n"
          ]
        }
      ]
    },
    {
      "cell_type": "markdown",
      "metadata": {
        "id": "GyoXaQSvHQv5"
      },
      "source": [
        "We can use remove() method to remove the given item or pop() method to remove an item at the given index.\n",
        "\n",
        "The pop() method removes and returns the last item if the index is not provided. This helps us implement lists as stacks (first in, last out data structure).\n",
        "\n",
        "We can also use the clear() method to empty a list."
      ]
    },
    {
      "cell_type": "code",
      "metadata": {
        "colab": {
          "base_uri": "https://localhost:8080/"
        },
        "id": "D7EsJa3bHSwX",
        "outputId": "ec002f48-0381-44ad-a6b5-6362b725b6fc"
      },
      "source": [
        "my_list = ['p','r','o','b','l','e','m']\n",
        "my_list.remove('p')\n",
        "\n",
        "# Output: ['r', 'o', 'b', 'l', 'e', 'm']\n",
        "print(my_list)\n",
        "\n",
        "# Output: 'o'\n",
        "print(my_list.pop(1))\n",
        "\n",
        "# Output: ['r', 'b', 'l', 'e', 'm']\n",
        "print(my_list)\n",
        "\n",
        "# Output: 'm'\n",
        "print(my_list.pop())\n",
        "\n",
        "# Output: ['r', 'b', 'l', 'e']\n",
        "print(my_list)\n",
        "\n",
        "my_list.clear()\n",
        "\n",
        "# Output: []\n",
        "print(my_list)"
      ],
      "execution_count": 15,
      "outputs": [
        {
          "output_type": "stream",
          "name": "stdout",
          "text": [
            "['r', 'o', 'b', 'l', 'e', 'm']\n",
            "o\n",
            "['r', 'b', 'l', 'e', 'm']\n",
            "m\n",
            "['r', 'b', 'l', 'e']\n",
            "[]\n"
          ]
        }
      ]
    },
    {
      "cell_type": "markdown",
      "metadata": {
        "id": "mhP3Oep7Iw2p"
      },
      "source": [
        "Some other list methods:"
      ]
    },
    {
      "cell_type": "code",
      "metadata": {
        "colab": {
          "base_uri": "https://localhost:8080/"
        },
        "id": "gxoQ6ZqsI0Nn",
        "outputId": "cb747d97-32a4-4c39-f955-265b5b96c195"
      },
      "source": [
        "# Python list methods\n",
        "my_list = [3, 8, 1, 6, 0, 8, 4]\n",
        "\n",
        "# Output: 1\n",
        "print(my_list.index(8))\n",
        "\n",
        "# Output: 2\n",
        "print(my_list.count(8))\n",
        "\n",
        "my_list.sort()\n",
        "\n",
        "# Output: [0, 1, 3, 4, 6, 8, 8]\n",
        "print(my_list)\n",
        "\n",
        "my_list.reverse()\n",
        "\n",
        "# Output: [8, 8, 6, 4, 3, 1, 0]\n",
        "print(my_list)"
      ],
      "execution_count": 17,
      "outputs": [
        {
          "output_type": "stream",
          "name": "stdout",
          "text": [
            "1\n",
            "2\n",
            "[0, 1, 3, 4, 6, 8, 8]\n",
            "[8, 8, 6, 4, 3, 1, 0]\n"
          ]
        }
      ]
    },
    {
      "cell_type": "markdown",
      "metadata": {
        "id": "JbMGgZKCJN4N"
      },
      "source": [
        "# List Comprehension: Elegant way to create Lists\n",
        "List comprehension is an elegant and concise way to create a new list from an existing list in Python.\n",
        "\n",
        "A list comprehension consists of an expression followed by for statement inside square brackets.\n",
        "\n",
        "Here is an example to make a list with each item being increasing power of 2."
      ]
    },
    {
      "cell_type": "code",
      "metadata": {
        "colab": {
          "base_uri": "https://localhost:8080/"
        },
        "id": "sTODdU4nJRBI",
        "outputId": "779e5235-f1b5-4e7b-bf82-8536cdf252e6"
      },
      "source": [
        "pow2 = [2 ** x for x in range(10)]\n",
        "print(pow2)"
      ],
      "execution_count": 18,
      "outputs": [
        {
          "output_type": "stream",
          "name": "stdout",
          "text": [
            "[1, 2, 4, 8, 16, 32, 64, 128, 256, 512]\n"
          ]
        }
      ]
    },
    {
      "cell_type": "markdown",
      "metadata": {
        "id": "Gl6qu-NaKm4M"
      },
      "source": [
        "An optional if statement can filter out items for the new list. Here are some examples."
      ]
    },
    {
      "cell_type": "code",
      "metadata": {
        "colab": {
          "base_uri": "https://localhost:8080/"
        },
        "id": "5Ge78kESKnnb",
        "outputId": "fec65f4e-330c-4897-958f-2f3f98f5c1f5"
      },
      "source": [
        "pow2 = [2 ** x for x in range(10) if x > 5]\n",
        "print(pow2)"
      ],
      "execution_count": 19,
      "outputs": [
        {
          "output_type": "stream",
          "name": "stdout",
          "text": [
            "[64, 128, 256, 512]\n"
          ]
        }
      ]
    },
    {
      "cell_type": "markdown",
      "metadata": {
        "id": "2jPbf9SjK6S1"
      },
      "source": [
        "A list comprehension can optionally contain more for statements"
      ]
    },
    {
      "cell_type": "code",
      "metadata": {
        "colab": {
          "base_uri": "https://localhost:8080/"
        },
        "id": "jhWeJE_QK1OU",
        "outputId": "a7dbabc0-1ad2-4891-8764-21201b36e1fe"
      },
      "source": [
        "[x+y for x in ['Python ','C '] for y in ['Language','Programming']]"
      ],
      "execution_count": 21,
      "outputs": [
        {
          "output_type": "execute_result",
          "data": {
            "text/plain": [
              "['Python Language', 'Python Programming', 'C Language', 'C Programming']"
            ]
          },
          "metadata": {},
          "execution_count": 21
        }
      ]
    },
    {
      "cell_type": "markdown",
      "metadata": {
        "id": "gkHnnc6YB6Wo"
      },
      "source": [
        "# Strings\n",
        "\n",
        "Various built-in functions that work with sequence work with strings as well.\n",
        "\n"
      ]
    },
    {
      "cell_type": "code",
      "metadata": {
        "colab": {
          "base_uri": "https://localhost:8080/"
        },
        "id": "YNuVkMK9B8OW",
        "outputId": "c1deb6f6-69c1-46d2-d48f-85dca27a4f25"
      },
      "source": [
        "str = 'cold'\n",
        "\n",
        "# enumerate()\n",
        "list_enumerate = list(enumerate(str))\n",
        "print('list(enumerate(str) = ', list_enumerate)\n",
        "\n",
        "#character count\n",
        "print('len(str) = ', len(str))"
      ],
      "execution_count": 1,
      "outputs": [
        {
          "output_type": "stream",
          "name": "stdout",
          "text": [
            "list(enumerate(str) =  [(0, 'c'), (1, 'o'), (2, 'l'), (3, 'd')]\n",
            "len(str) =  4\n"
          ]
        }
      ]
    },
    {
      "cell_type": "code",
      "metadata": {
        "colab": {
          "base_uri": "https://localhost:8080/"
        },
        "id": "fd7fxD8VCr9T",
        "outputId": "a231d053-4c39-4808-c7b7-ac072ce23132"
      },
      "source": [
        "# using triple quotes\n",
        "print('''He said, \"What's there?\"''')\n",
        "\n",
        "# escaping single quotes\n",
        "print('He said, \"What\\'s there?\"')\n",
        "\n",
        "# escaping double quotes\n",
        "print(\"He said, \\\"What's there?\\\"\")"
      ],
      "execution_count": 2,
      "outputs": [
        {
          "output_type": "stream",
          "name": "stdout",
          "text": [
            "He said, \"What's there?\"\n",
            "He said, \"What's there?\"\n",
            "He said, \"What's there?\"\n"
          ]
        }
      ]
    },
    {
      "cell_type": "markdown",
      "metadata": {
        "id": "ND3_r4-hPdFD"
      },
      "source": [
        "Common Python String Methods\n",
        "There are numerous methods available with the string object. The format() method that we mentioned above is one of them. Some of the commonly used methods are lower(), upper(), join(), split(), find(), replace() etc. Here is a complete list of all the built-in methods to work with strings in Python."
      ]
    },
    {
      "cell_type": "code",
      "metadata": {
        "colab": {
          "base_uri": "https://localhost:8080/"
        },
        "id": "ot4HFjcHPbyo",
        "outputId": "57e2443c-9ff3-4523-e52e-1cf991e6b558"
      },
      "source": [
        "print(\"PrOgRaMiZ\".lower())\n",
        "#'programiz'\n",
        "print(\"PrOgRaMiZ\".upper())\n",
        "#'PROGRAMIZ'\n",
        "print(\"This will split all words into a list\".split())\n",
        "#['This', 'will', 'split', 'all', 'words', 'into', 'a', 'list']\n",
        "print(' '.join(['This', 'will', 'join', 'all', 'words', 'into', 'a', 'string']))\n",
        "#'This will join all words into a string'\n",
        "print('Happy New Year'.find('ew'))\n",
        "#7\n",
        "print('Happy New Year'.replace('Happy','Brilliant'))\n",
        "#'Brilliant New Year"
      ],
      "execution_count": 7,
      "outputs": [
        {
          "output_type": "stream",
          "name": "stdout",
          "text": [
            "programiz\n",
            "PROGRAMIZ\n",
            "['This', 'will', 'split', 'all', 'words', 'into', 'a', 'list']\n",
            "This will join all words into a string\n",
            "7\n",
            "Brilliant New Year\n"
          ]
        }
      ]
    },
    {
      "cell_type": "markdown",
      "metadata": {
        "id": "py8zmLkfKsn3"
      },
      "source": [
        "Old style formatting\n",
        "We can even format strings like the old sprintf() style used in C programming language. We use the % operator to accomplish this."
      ]
    },
    {
      "cell_type": "code",
      "metadata": {
        "colab": {
          "base_uri": "https://localhost:8080/"
        },
        "id": "A_fki4sRKtxk",
        "outputId": "2ec8548a-a8c1-4265-dbcd-4441770615da"
      },
      "source": [
        "x = 12.3456789\n",
        "print('The value of x is %3.2f' %x)\n",
        "#The value of x is 12.35\n",
        "print('The value of x is %3.4f' %x)\n",
        "#The value of x is 12.3457"
      ],
      "execution_count": 5,
      "outputs": [
        {
          "output_type": "stream",
          "name": "stdout",
          "text": [
            "The value of x is 12.35\n",
            "The value of x is 12.3457\n"
          ]
        }
      ]
    },
    {
      "cell_type": "markdown",
      "metadata": {
        "id": "kmjtgqliEmmh"
      },
      "source": [
        "The format() Method for Formatting Strings"
      ]
    },
    {
      "cell_type": "code",
      "metadata": {
        "id": "lIGPvfP-EndL"
      },
      "source": [
        "# Python string format() method\n",
        "\n",
        "# default(implicit) order\n",
        "default_order = \"{}, {} and {}\".format('John','Bill','Sean')\n",
        "print('\\n--- Default Order ---')\n",
        "print(default_order)\n",
        "\n",
        "# order using positional argument\n",
        "positional_order = \"{1}, {0} and {2}\".format('John','Bill','Sean')\n",
        "print('\\n--- Positional Order ---')\n",
        "print(positional_order)\n",
        "\n",
        "# order using keyword argument\n",
        "keyword_order = \"{s}, {b} and {j}\".format(j='John',b='Bill',s='Sean')\n",
        "print('\\n--- Keyword Order ---')\n",
        "print(keyword_order)"
      ],
      "execution_count": null,
      "outputs": []
    },
    {
      "cell_type": "code",
      "metadata": {
        "colab": {
          "base_uri": "https://localhost:8080/",
          "height": 35
        },
        "id": "lj7mubMbGQlS",
        "outputId": "a75a5fea-bf03-4d2b-84c9-663a726e4bc3"
      },
      "source": [
        "# formatting integers\n",
        "\"Binary representation of {0} is {0:b}\".format(12)\n",
        "#'Binary representation of 12 is 1100'\n",
        "\n",
        "# formatting floats\n",
        "\"Exponent representation: {0:e}\".format(1566.345)\n",
        "#'Exponent representation: 1.566345e+03'\n",
        "\n",
        "# round off\n",
        "\"One third is: {0:.3f}\".format(1/3)\n",
        "#'One third is: 0.333'\n",
        "\n",
        "# string alignment\n",
        "\"|{:<10}|{:^10}|{:>10}|\".format('butter','bread','ham')\n",
        "#'|butter    |  bread   |       ham|'"
      ],
      "execution_count": 3,
      "outputs": [
        {
          "output_type": "execute_result",
          "data": {
            "application/vnd.google.colaboratory.intrinsic+json": {
              "type": "string"
            },
            "text/plain": [
              "'|butter    |  bread   |       ham|'"
            ]
          },
          "metadata": {},
          "execution_count": 3
        }
      ]
    },
    {
      "cell_type": "markdown",
      "metadata": {
        "id": "iH6581T202Wh"
      },
      "source": [
        "string format"
      ]
    },
    {
      "cell_type": "code",
      "metadata": {
        "id": "HzfRr4zy1BSO"
      },
      "source": [
        "person = {'name': 'Eric', 'age': 74}\n",
        "\"Hello, {name}. You are {age}.\".format(name=person['name'], age=person['age'])"
      ],
      "execution_count": null,
      "outputs": []
    },
    {
      "cell_type": "markdown",
      "metadata": {
        "id": "p4I53fU21Eqa"
      },
      "source": [
        "You can also use ** to do this neat trick with dictionaries:"
      ]
    },
    {
      "cell_type": "code",
      "metadata": {
        "id": "wEEQ7w4R034y"
      },
      "source": [
        "person = {'name': 'Eric', 'age': 74}\n",
        "\"Hello, {name}. You are {age}.\".format(**person)"
      ],
      "execution_count": null,
      "outputs": []
    },
    {
      "cell_type": "markdown",
      "metadata": {
        "id": "agacCNvQpOVb"
      },
      "source": [
        "f-Strings: A New and Improved Way to Format Strings in Python"
      ]
    },
    {
      "cell_type": "code",
      "metadata": {
        "colab": {
          "base_uri": "https://localhost:8080/",
          "height": 35
        },
        "id": "vy3iucMdpPkn",
        "outputId": "3d74b4ee-486c-4c97-dc59-9f5044bdfbdc"
      },
      "source": [
        "name = \"Eric\"\n",
        "age = 74\n",
        "f\"Hello, {name}. You are {age:3.2f}.\""
      ],
      "execution_count": null,
      "outputs": [
        {
          "output_type": "execute_result",
          "data": {
            "application/vnd.google.colaboratory.intrinsic+json": {
              "type": "string"
            },
            "text/plain": [
              "'Hello, Eric. You are 74.00.'"
            ]
          },
          "metadata": {},
          "execution_count": 14
        }
      ]
    },
    {
      "cell_type": "code",
      "metadata": {
        "colab": {
          "base_uri": "https://localhost:8080/",
          "height": 35
        },
        "id": "ewbklBM5pbjK",
        "outputId": "a51b3d96-c91a-4c13-e0d7-ab669f374b4a"
      },
      "source": [
        "f\"{2 * 37}\""
      ],
      "execution_count": null,
      "outputs": [
        {
          "output_type": "execute_result",
          "data": {
            "application/vnd.google.colaboratory.intrinsic+json": {
              "type": "string"
            },
            "text/plain": [
              "'74'"
            ]
          },
          "metadata": {},
          "execution_count": 2
        }
      ]
    },
    {
      "cell_type": "code",
      "metadata": {
        "colab": {
          "base_uri": "https://localhost:8080/",
          "height": 35
        },
        "id": "hA7d0vkqpdKF",
        "outputId": "a03c854d-7e14-4bd0-a305-7fbdb856e9f8"
      },
      "source": [
        "def to_lowercase(input):\n",
        "    return input.lower()\n",
        "\n",
        "name = \"Eric Idle\"\n",
        "f\"{to_lowercase(name)} is funny.\""
      ],
      "execution_count": null,
      "outputs": [
        {
          "output_type": "execute_result",
          "data": {
            "application/vnd.google.colaboratory.intrinsic+json": {
              "type": "string"
            },
            "text/plain": [
              "'eric idle is funny.'"
            ]
          },
          "metadata": {},
          "execution_count": 3
        }
      ]
    },
    {
      "cell_type": "code",
      "metadata": {
        "colab": {
          "base_uri": "https://localhost:8080/",
          "height": 35
        },
        "id": "1T1ikmJdpqDA",
        "outputId": "8716f4f4-e14a-4e0e-89c1-c6df9410f87e"
      },
      "source": [
        "f\"{name.lower()} is funny.\""
      ],
      "execution_count": null,
      "outputs": [
        {
          "output_type": "execute_result",
          "data": {
            "application/vnd.google.colaboratory.intrinsic+json": {
              "type": "string"
            },
            "text/plain": [
              "'eric idle is funny.'"
            ]
          },
          "metadata": {},
          "execution_count": 4
        }
      ]
    },
    {
      "cell_type": "markdown",
      "metadata": {
        "id": "SjtbhkyMqAAB"
      },
      "source": [
        "You could even use objects created from classes with f-strings. Imagine you had the following class:"
      ]
    },
    {
      "cell_type": "code",
      "metadata": {
        "colab": {
          "base_uri": "https://localhost:8080/",
          "height": 35
        },
        "id": "nwWaH-d0qBA1",
        "outputId": "6ab33447-ea01-45af-e502-cf545c1d69a0"
      },
      "source": [
        "class Comedian:\n",
        "    def __init__(self, first_name, last_name, age):\n",
        "        self.first_name = first_name\n",
        "        self.last_name = last_name\n",
        "        self.age = age\n",
        "\n",
        "    def __str__(self):\n",
        "        return f\"{self.first_name} {self.last_name} is {self.age}.\"\n",
        "\n",
        "    def __repr__(self):\n",
        "        return f\"{self.first_name} {self.last_name} is {self.age}. Surprise!\"\n",
        "\n",
        "\n",
        "\n",
        "new_comedian = Comedian(\"Eric\", \"Idle\", \"74\")\n",
        "f\"{new_comedian}\""
      ],
      "execution_count": null,
      "outputs": [
        {
          "output_type": "execute_result",
          "data": {
            "application/vnd.google.colaboratory.intrinsic+json": {
              "type": "string"
            },
            "text/plain": [
              "'Eric Idle is 74.'"
            ]
          },
          "metadata": {},
          "execution_count": 5
        }
      ]
    },
    {
      "cell_type": "code",
      "metadata": {
        "colab": {
          "base_uri": "https://localhost:8080/",
          "height": 35
        },
        "id": "OZhzQ3neqiu9",
        "outputId": "39d3979b-f3a3-44db-ff44-fa6cbd833f2e"
      },
      "source": [
        "f\"{new_comedian}\"\n",
        "\n"
      ],
      "execution_count": null,
      "outputs": [
        {
          "output_type": "execute_result",
          "data": {
            "application/vnd.google.colaboratory.intrinsic+json": {
              "type": "string"
            },
            "text/plain": [
              "'Eric Idle is 74.'"
            ]
          },
          "metadata": {},
          "execution_count": 7
        }
      ]
    },
    {
      "cell_type": "markdown",
      "metadata": {
        "id": "UMcWxj4JqgEz"
      },
      "source": [
        "By default, f-strings will use __str__(), but you can make sure they use __repr__() if you include the conversion flag !r:"
      ]
    },
    {
      "cell_type": "code",
      "metadata": {
        "colab": {
          "base_uri": "https://localhost:8080/",
          "height": 35
        },
        "id": "hCtbbWfiqqDm",
        "outputId": "8d4dd16c-7362-4353-d315-77d228e94641"
      },
      "source": [
        "f\"{new_comedian!r}\""
      ],
      "execution_count": null,
      "outputs": [
        {
          "output_type": "execute_result",
          "data": {
            "application/vnd.google.colaboratory.intrinsic+json": {
              "type": "string"
            },
            "text/plain": [
              "'Eric Idle is 74. Surprise!'"
            ]
          },
          "metadata": {},
          "execution_count": 8
        }
      ]
    },
    {
      "cell_type": "markdown",
      "metadata": {
        "id": "dqmFDr1ttKSm"
      },
      "source": [
        "execution time:"
      ]
    },
    {
      "cell_type": "code",
      "metadata": {
        "colab": {
          "base_uri": "https://localhost:8080/"
        },
        "id": "KLZcZHBxtNQA",
        "outputId": "bd41c17d-860b-4985-b351-af6bdb80edd6"
      },
      "source": [
        "import timeit\n",
        "\n",
        "timeit.timeit(\"\"\"name = \"Eric\"\n",
        "age = 74\n",
        "f'{name} is {age}.'\"\"\", number = 10000)"
      ],
      "execution_count": null,
      "outputs": [
        {
          "output_type": "execute_result",
          "data": {
            "text/plain": [
              "0.010173673999815946"
            ]
          },
          "metadata": {},
          "execution_count": 12
        }
      ]
    },
    {
      "cell_type": "markdown",
      "metadata": {
        "id": "SwvmmXWjzLG6"
      },
      "source": [
        "f string date time format"
      ]
    },
    {
      "cell_type": "code",
      "metadata": {
        "colab": {
          "base_uri": "https://localhost:8080/"
        },
        "id": "L_tSrG9YzJYh",
        "outputId": "80444729-f65a-4eaa-fc04-87ce9b0f8f4c"
      },
      "source": [
        "import datetime\n",
        "\n",
        "now = datetime.datetime.now()\n",
        "\n",
        "print(f'{now:%Y-%m-%d %H:%M}')"
      ],
      "execution_count": null,
      "outputs": [
        {
          "output_type": "stream",
          "name": "stdout",
          "text": [
            "2021-09-20 10:42\n"
          ]
        }
      ]
    },
    {
      "cell_type": "markdown",
      "metadata": {
        "id": "KchCdteu5dnj"
      },
      "source": [
        "Python f-string numeric notations"
      ]
    },
    {
      "cell_type": "code",
      "metadata": {
        "colab": {
          "base_uri": "https://localhost:8080/"
        },
        "id": "KgKCFhtK5e19",
        "outputId": "7cc07afb-5d1c-47c4-edb6-2d23de33c687"
      },
      "source": [
        "a = 300\n",
        "\n",
        "# hexadecimal\n",
        "print(f\"{a:x}\")\n",
        "\n",
        "# octal\n",
        "print(f\"{a:o}\")\n",
        "\n",
        "# scientific\n",
        "print(f\"{a:e}\")"
      ],
      "execution_count": null,
      "outputs": [
        {
          "output_type": "stream",
          "name": "stdout",
          "text": [
            "12c\n",
            "454\n",
            "3.000000e+02\n"
          ]
        }
      ]
    },
    {
      "cell_type": "markdown",
      "metadata": {
        "id": "_4o5vqabSCp9"
      },
      "source": [
        "# Creating Python Sets\n",
        "A set is created by placing all the items (elements) inside curly braces {}, separated by comma, or by using the built-in set() function.\n",
        "\n",
        "It can have any number of items and they may be of different types (integer, float, tuple, string etc.). But a set cannot have mutable elements like lists, sets or dictionaries as its elements."
      ]
    },
    {
      "cell_type": "code",
      "metadata": {
        "colab": {
          "base_uri": "https://localhost:8080/"
        },
        "id": "v4an5y_rSFxH",
        "outputId": "7df59ede-a208-4298-ef33-a2d1e7d049ae"
      },
      "source": [
        "# Different types of sets in Python\n",
        "# set of integers\n",
        "my_set = {1, 2, 3}\n",
        "print(my_set)\n",
        "\n",
        "# set of mixed datatypes\n",
        "my_set = {1.0, \"Hello\", (1, 2, 3)}\n",
        "print(my_set)"
      ],
      "execution_count": 8,
      "outputs": [
        {
          "output_type": "stream",
          "name": "stdout",
          "text": [
            "{1, 2, 3}\n",
            "{1.0, 'Hello', (1, 2, 3)}\n"
          ]
        }
      ]
    },
    {
      "cell_type": "code",
      "metadata": {
        "colab": {
          "base_uri": "https://localhost:8080/"
        },
        "id": "uvap3RgKShT4",
        "outputId": "5859a728-e7f3-4fa9-e334-4689256ca2f8"
      },
      "source": [
        "# set cannot have duplicates\n",
        "# Output: {1, 2, 3, 4}\n",
        "my_set = {1, 2, 3, 4, 3, 2}\n",
        "print(my_set)\n",
        "\n",
        "# we can make set from a list\n",
        "# Output: {1, 2, 3}\n",
        "my_set = set([1, 2, 3, 2])\n",
        "print(my_set)\n",
        "\n",
        "# set cannot have mutable items\n",
        "# here [3, 4] is a mutable list\n",
        "# this will cause an error.\n",
        "\n",
        "#my_set = {1, 2, [3, 4]}"
      ],
      "execution_count": 11,
      "outputs": [
        {
          "output_type": "stream",
          "name": "stdout",
          "text": [
            "{1, 2, 3, 4}\n",
            "{1, 2, 3}\n"
          ]
        }
      ]
    },
    {
      "cell_type": "code",
      "metadata": {
        "colab": {
          "base_uri": "https://localhost:8080/"
        },
        "id": "CQbmYyXbSuRO",
        "outputId": "b6602e41-4023-4063-c8d0-90b4037062cd"
      },
      "source": [
        "# Distinguish set and dictionary while creating empty set\n",
        "\n",
        "# initialize a with {}\n",
        "a = {}\n",
        "\n",
        "# check data type of a\n",
        "print(type(a))\n",
        "\n",
        "# initialize a with set()\n",
        "a = set()\n",
        "\n",
        "# check data type of a\n",
        "print(type(a))"
      ],
      "execution_count": 10,
      "outputs": [
        {
          "output_type": "stream",
          "name": "stdout",
          "text": [
            "<class 'dict'>\n",
            "<class 'set'>\n"
          ]
        }
      ]
    },
    {
      "cell_type": "code",
      "metadata": {
        "id": "uXt_IvL2TnWx"
      },
      "source": [
        "# initialize my_set\n",
        "my_set = {1, 3}\n",
        "print(my_set)\n",
        "\n",
        "# my_set[0]\n",
        "# if you uncomment the above line\n",
        "# you will get an error\n",
        "# TypeError: 'set' object does not support indexing\n",
        "\n",
        "# add an element\n",
        "# Output: {1, 2, 3}\n",
        "my_set.add(2)\n",
        "print(my_set)\n",
        "\n",
        "# add multiple elements\n",
        "# Output: {1, 2, 3, 4}\n",
        "my_set.update([2, 3, 4])\n",
        "print(my_set)\n",
        "\n",
        "# add list and set\n",
        "# Output: {1, 2, 3, 4, 5, 6, 8}\n",
        "my_set.update([4, 5], {1, 6, 8})\n",
        "print(my_set)"
      ],
      "execution_count": null,
      "outputs": []
    },
    {
      "cell_type": "markdown",
      "metadata": {
        "id": "Yb6AFk5dzGJ2"
      },
      "source": [
        "If dictionaries are passed to the update() method, the keys of the dictionaries are added to the set."
      ]
    },
    {
      "cell_type": "code",
      "metadata": {
        "colab": {
          "base_uri": "https://localhost:8080/"
        },
        "id": "FFGYdxsUzFL1",
        "outputId": "3b18830d-c604-46e9-e51e-1fd904fc4ea0"
      },
      "source": [
        "string_alphabet = 'abc'\n",
        "numbers_set = {1, 2}\n",
        "\n",
        "# add elements of the string to the set\n",
        "numbers_set.update(string_alphabet)\n",
        "\n",
        "print('numbers_set =', numbers_set)\n",
        "\n",
        "info_dictionary = {'key': 1, 'lock' : 2}\n",
        "numbers_set = {'a', 'b'}\n",
        "\n",
        "# add keys of dictionary to the set\n",
        "numbers_set.update(info_dictionary)\n",
        "print('numbers_set =', numbers_set)"
      ],
      "execution_count": 2,
      "outputs": [
        {
          "output_type": "stream",
          "name": "stdout",
          "text": [
            "numbers_set = {1, 2, 'a', 'b', 'c'}\n",
            "numbers_set = {'lock', 'a', 'key', 'b'}\n"
          ]
        }
      ]
    },
    {
      "cell_type": "markdown",
      "metadata": {
        "id": "sUg5UQo0UfdU"
      },
      "source": [
        "A particular item can be removed from a set using the methods discard() and remove().\n",
        "\n",
        "The only difference between the two is that the discard() function leaves a set unchanged if the element is not present in the set. On the other hand, the remove() function will raise an error in such a condition (if element is not present in the set)."
      ]
    },
    {
      "cell_type": "code",
      "metadata": {
        "colab": {
          "base_uri": "https://localhost:8080/"
        },
        "id": "Ma90wFLzUgwd",
        "outputId": "23b49344-c1fa-4b95-f492-54d2efb475f0"
      },
      "source": [
        "# Difference between discard() and remove()\n",
        "\n",
        "# initialize my_set\n",
        "my_set = {1, 3, 4, 5, 6}\n",
        "print(my_set)\n",
        "\n",
        "# discard an element\n",
        "# Output: {1, 3, 5, 6}\n",
        "my_set.discard(4)\n",
        "print(my_set)\n",
        "\n",
        "# remove an element\n",
        "# Output: {1, 3, 5}\n",
        "my_set.remove(6)\n",
        "print(my_set)\n",
        "\n",
        "# discard an element\n",
        "# not present in my_set\n",
        "# Output: {1, 3, 5}\n",
        "my_set.discard(2)\n",
        "print(my_set)\n",
        "\n",
        "# remove an element\n",
        "# not present in my_set\n",
        "# you will get an error.\n",
        "# Output: KeyError\n",
        "\n",
        "#my_set.remove(2)"
      ],
      "execution_count": 12,
      "outputs": [
        {
          "output_type": "stream",
          "name": "stdout",
          "text": [
            "{1, 3, 4, 5, 6}\n",
            "{1, 3, 5, 6}\n",
            "{1, 3, 5}\n",
            "{1, 3, 5}\n"
          ]
        }
      ]
    },
    {
      "cell_type": "code",
      "metadata": {
        "id": "GWtWHf1QU7oe"
      },
      "source": [
        "# initialize my_set\n",
        "# Output: set of unique elements\n",
        "my_set = set(\"HelloWorld\")\n",
        "print(my_set)\n",
        "\n",
        "# pop an element\n",
        "# Output: random element\n",
        "print(my_set.pop())\n",
        "\n",
        "# pop another element\n",
        "my_set.pop()\n",
        "print(my_set)\n",
        "\n",
        "# clear my_set\n",
        "# Output: set()\n",
        "my_set.clear()\n",
        "print(my_set)\n",
        "\n",
        "print(my_set)"
      ],
      "execution_count": null,
      "outputs": []
    },
    {
      "cell_type": "markdown",
      "metadata": {
        "id": "x1fyiTi7VX91"
      },
      "source": [
        "Built-in Functions with Set\n",
        "Built-in functions like all(), any(), enumerate(), len(), max(), min(), sorted(), sum() etc. are commonly used with sets to perform different tasks."
      ]
    },
    {
      "cell_type": "markdown",
      "metadata": {
        "id": "DMNn1QHVuEUY"
      },
      "source": [
        "Python Set Operations\n",
        "# Sets can be used to carry out mathematical set operations like union, intersection, difference and symmetric difference. We can do this with operators or methods.\n",
        "\n",
        "Let us consider the following two sets for the following operations."
      ]
    },
    {
      "cell_type": "code",
      "metadata": {
        "colab": {
          "base_uri": "https://localhost:8080/"
        },
        "id": "uJ1s5ylzuDzx",
        "outputId": "e70d19a9-75f4-4d2d-a165-bec1581e95a2"
      },
      "source": [
        "\n",
        "# Set union method\n",
        "# initialize A and B\n",
        "A = {1, 2, 3, 4, 5}\n",
        "B = {4, 5, 6, 7, 8}\n",
        "\n",
        "#Union is performed using | operator. Same can be accomplished using the union() method.\n",
        "\n",
        "# use | operator\n",
        "# Output: {1, 2, 3, 4, 5, 6, 7, 8}\n",
        "print(A | B)\n",
        "\n",
        "# use union function\n",
        "A.union(B)"
      ],
      "execution_count": 1,
      "outputs": [
        {
          "output_type": "stream",
          "name": "stdout",
          "text": [
            "{1, 2, 3, 4, 5, 6, 7, 8}\n"
          ]
        },
        {
          "output_type": "execute_result",
          "data": {
            "text/plain": [
              "{1, 2, 3, 4, 5, 6, 7, 8}"
            ]
          },
          "metadata": {},
          "execution_count": 1
        }
      ]
    },
    {
      "cell_type": "code",
      "metadata": {
        "id": "_k0urgwtxkan"
      },
      "source": [
        "#Symmetric Difference of A and B is a set of elements in A and B but not in both (excluding the intersection).\n",
        "\n",
        "#Symmetric difference is performed using ^ operator. \n",
        "# Symmetric difference of two sets\n",
        "# initialize A and B\n",
        "A = {1, 2, 3, 4, 5}\n",
        "B = {4, 5, 6, 7, 8}\n",
        "\n",
        "# use ^ operator\n",
        "# Output: {1, 2, 3, 6, 7, 8}\n",
        "print(A ^ B)\n",
        "\n",
        "#Same can be accomplished using the method symmetric_difference().\n",
        "A.symmetric_difference(B)"
      ],
      "execution_count": null,
      "outputs": []
    },
    {
      "cell_type": "markdown",
      "metadata": {
        "id": "lJsRztzvVzqv"
      },
      "source": [
        "# Other Python Set Methods\n",
        "There are many set methods, some of which we have already used above. Here is a list of all the methods that are available with the set objects:\n",
        "\n",
        "Method\tDescription\n",
        "add()\tAdds an element to the set\n",
        "\n",
        "clear()\tRemoves all elements from the set\n",
        "\n",
        "copy()\tReturns a copy of the set\n",
        "\n",
        "difference()\tReturns the difference of two or more sets as a new set\n",
        "\n",
        "difference_update()\tRemoves all elements of another set from this set\n",
        "\n",
        "discard()\tRemoves an element from the set if it is a member. (Do nothing if the element is not in set)\n",
        "\n",
        "intersection()\tReturns the intersection of two sets as a new set\n",
        "\n",
        "intersection_update()\tUpdates the set with the intersection of itself and another\n",
        "\n",
        "isdisjoint()\tReturns True if two sets have a null intersection\n",
        "\n",
        "issubset()\tReturns True if another set contains this set\n",
        "\n",
        "issuperset()\tReturns True if this set contains another set\n",
        "\n",
        "pop()\tRemoves and returns an arbitrary set element. Raises KeyError if the set is empty\n",
        "\n",
        "remove()\tRemoves an element from the set. If the element is not a member, raises a KeyError\n",
        "\n",
        "symmetric_difference()\tReturns the symmetric difference of two sets as a new set\n",
        "\n",
        "symmetric_difference_update()\tUpdates a set with the symmetric difference of itself and another\n",
        "\n",
        "union()\tReturns the union of sets in a new set\n",
        "\n",
        "update()\tUpdates the set with the union of itself and others"
      ]
    },
    {
      "cell_type": "code",
      "metadata": {
        "id": "4oGMOyozV5LL"
      },
      "source": [
        ""
      ],
      "execution_count": null,
      "outputs": []
    },
    {
      "cell_type": "markdown",
      "metadata": {
        "id": "_dHpb7ws107r"
      },
      "source": [
        "# Python Frozenset\n",
        "Frozenset is a new class that has the characteristics of a set, but its elements cannot be changed once assigned. While tuples are immutable lists, frozensets are immutable sets.\n",
        "\n",
        "Sets being mutable are unhashable, so they can't be used as dictionary keys. On the other hand, frozensets are hashable and can be used as keys to a dictionary.\n",
        "\n",
        "Frozensets can be created using the frozenset() function.\n",
        "\n",
        "This data type supports methods like copy(), difference(), intersection(), isdisjoint(), issubset(), issuperset(), symmetric_difference() and union(). Being immutable, it does not have methods that add or remove elements.\n",
        "\n",
        "he frozenset() function returns an immutable frozenset object initialized with elements from the given iterable.\n",
        "\n",
        "Frozen set is just an immutable version of a Python set object. While elements of a set can be modified at any time, elements of the frozen set remain the same after creation.\n",
        "\n"
      ]
    },
    {
      "cell_type": "code",
      "metadata": {
        "colab": {
          "base_uri": "https://localhost:8080/"
        },
        "id": "nYMXq_lX2H3c",
        "outputId": "e9215747-6fa2-42ec-f7d6-1ef280e79638"
      },
      "source": [
        "# Frozensets\n",
        "# initialize A and B\n",
        "A = frozenset([1, 2, 3, 4])\n",
        "B = frozenset([3, 4, 5, 6])\n",
        "A.isdisjoint(B)\n",
        "#False\n",
        "A.difference(B)\n",
        "#frozenset({1, 2})\n",
        "A | B\n",
        "#frozenset({1, 2, 3, 4, 5, 6})\n"
      ],
      "execution_count": 3,
      "outputs": [
        {
          "output_type": "execute_result",
          "data": {
            "text/plain": [
              "frozenset({1, 2, 3, 4, 5, 6})"
            ]
          },
          "metadata": {},
          "execution_count": 3
        }
      ]
    },
    {
      "cell_type": "markdown",
      "metadata": {
        "id": "1hpEy8D54pnI"
      },
      "source": [
        "Due to this, frozen sets can be used as keys in Dictionary or as elements of another set. But like sets, it is not ordered (the elements can be set at any index)."
      ]
    },
    {
      "cell_type": "code",
      "metadata": {
        "colab": {
          "base_uri": "https://localhost:8080/"
        },
        "id": "fJxVwepW4pKh",
        "outputId": "20e53c10-eab6-4605-d322-2c96e3b9fb8d"
      },
      "source": [
        "# initialize A and B\n",
        "A = frozenset([1, 2, 3, 4])\n",
        "B = frozenset([3, 4, 5, 6])\n",
        "myd={A:\"froz1\",B:\"froz2\"}\n",
        "print(myd)"
      ],
      "execution_count": 5,
      "outputs": [
        {
          "output_type": "stream",
          "name": "stdout",
          "text": [
            "{frozenset({1, 2, 3, 4}): 'froz1', frozenset({3, 4, 5, 6}): 'froz2'}\n"
          ]
        }
      ]
    },
    {
      "cell_type": "markdown",
      "metadata": {
        "id": "YqF2hRmxS-_q"
      },
      "source": [
        "#Creating Python Dictionary\n",
        "Creating a dictionary is as simple as placing items inside curly braces {} separated by commas.\n",
        "\n",
        "An item has a key and a corresponding value that is expressed as a pair (key: value).\n",
        "\n",
        "While the values can be of any data type and can repeat, keys must be of immutable type (string, number or tuple with immutable elements) and must be unique."
      ]
    },
    {
      "cell_type": "code",
      "metadata": {
        "id": "A34yGOgFTG2j"
      },
      "source": [
        "# empty dictionary\n",
        "my_dict = {}\n",
        "\n",
        "# dictionary with integer keys\n",
        "my_dict = {1: 'apple', 2: 'ball'}\n",
        "\n",
        "# dictionary with mixed keys\n",
        "my_dict = {'name': 'John', 1: [2, 4, 3]}\n",
        "\n",
        "# using dict()\n",
        "my_dict = dict({1:'apple', 2:'ball'})\n",
        "\n",
        "# from sequence having each item as a pair\n",
        "my_dict = dict([(1,'apple'), (2,'ball')])"
      ],
      "execution_count": 6,
      "outputs": []
    },
    {
      "cell_type": "code",
      "metadata": {
        "colab": {
          "base_uri": "https://localhost:8080/"
        },
        "id": "MzS6bv_5TmDK",
        "outputId": "0a19fc00-f390-436c-98c6-d60999e9e202"
      },
      "source": [
        "# get vs [] for retrieving elements\n",
        "my_dict = {'name': 'Jack', 'age': 26}\n",
        "\n",
        "# Output: Jack\n",
        "print(my_dict['name'])\n",
        "\n",
        "# Output: 26\n",
        "print(my_dict.get('age'))\n",
        "\n",
        "# Trying to access keys which doesn't exist throws error\n",
        "# Output None\n",
        "print(my_dict.get('address'))\n",
        "\n"
      ],
      "execution_count": 8,
      "outputs": [
        {
          "output_type": "stream",
          "name": "stdout",
          "text": [
            "Jack\n",
            "26\n",
            "None\n"
          ]
        }
      ]
    },
    {
      "cell_type": "code",
      "metadata": {
        "colab": {
          "base_uri": "https://localhost:8080/"
        },
        "id": "VXS0Wj17TxZv",
        "outputId": "31626128-9ed2-4650-f5eb-6afe1c7d9360"
      },
      "source": [
        "# Changing and adding Dictionary Elements\n",
        "my_dict = {'name': 'Jack', 'age': 26}\n",
        "\n",
        "# update value\n",
        "my_dict['age'] = 27\n",
        "\n",
        "#Output: {'age': 27, 'name': 'Jack'}\n",
        "print(my_dict)\n",
        "\n",
        "# add item\n",
        "my_dict['address'] = 'Downtown'\n",
        "\n",
        "# Output: {'address': 'Downtown', 'age': 27, 'name': 'Jack'}\n",
        "print(my_dict)"
      ],
      "execution_count": 11,
      "outputs": [
        {
          "output_type": "stream",
          "name": "stdout",
          "text": [
            "{'name': 'Jack', 'age': 27}\n",
            "{'name': 'Jack', 'age': 27, 'address': 'Downtown'}\n"
          ]
        }
      ]
    },
    {
      "cell_type": "code",
      "metadata": {
        "colab": {
          "base_uri": "https://localhost:8080/"
        },
        "id": "7kXOT7SMUJFy",
        "outputId": "80366f54-47e5-4304-a0d3-84f15428aac4"
      },
      "source": [
        "# Removing elements from a dictionary\n",
        "\n",
        "# create a dictionary\n",
        "squares = {1: 1, 2: 4, 3: 9, 4: 16, 5: 25}\n",
        "\n",
        "# remove a particular item, returns its value\n",
        "# Output: 16\n",
        "print(squares.pop(4))\n",
        "\n",
        "# Output: {1: 1, 2: 4, 3: 9, 5: 25}\n",
        "print(squares)\n",
        "\n",
        "# remove an arbitrary item, return (key,value)\n",
        "# Output: (5, 25)\n",
        "print(squares.popitem())\n",
        "\n",
        "# Output: {1: 1, 2: 4, 3: 9}\n",
        "print(squares)\n",
        "\n",
        "# remove all items\n",
        "squares.clear()\n",
        "\n",
        "# Output: {}\n",
        "print(squares)\n",
        "\n",
        "# delete the dictionary itself\n",
        "del squares"
      ],
      "execution_count": 10,
      "outputs": [
        {
          "output_type": "stream",
          "name": "stdout",
          "text": [
            "16\n",
            "{1: 1, 2: 4, 3: 9, 5: 25}\n",
            "(5, 25)\n",
            "{1: 1, 2: 4, 3: 9}\n",
            "{}\n"
          ]
        }
      ]
    },
    {
      "cell_type": "code",
      "metadata": {
        "colab": {
          "base_uri": "https://localhost:8080/"
        },
        "id": "hvgQOPBaUqCf",
        "outputId": "e103695a-260c-41fe-d071-aa6eccd2cf1c"
      },
      "source": [
        "# Dictionary Methods\n",
        "marks = {}.fromkeys(['Math', 'English', 'Science'], 0)\n",
        "\n",
        "# Output: {'English': 0, 'Math': 0, 'Science': 0}\n",
        "print(marks)\n",
        "\n",
        "# Iterating through a Dictionary\n",
        "for item in marks.items():\n",
        "    print(item)\n",
        "\n",
        "# Output: ['English', 'Math', 'Science']\n",
        "print(list(sorted(marks.keys())))"
      ],
      "execution_count": 16,
      "outputs": [
        {
          "output_type": "stream",
          "name": "stdout",
          "text": [
            "{'Math': 0, 'English': 0, 'Science': 0}\n",
            "('Math', 0)\n",
            "('English', 0)\n",
            "('Science', 0)\n",
            "['English', 'Math', 'Science']\n"
          ]
        }
      ]
    },
    {
      "cell_type": "code",
      "metadata": {
        "colab": {
          "base_uri": "https://localhost:8080/"
        },
        "id": "Fo4fEQr7XL6H",
        "outputId": "6e096087-4346-4fbe-804e-7ccb343a69e8"
      },
      "source": [
        "# Iterating through a Dictionary\n",
        "squares = {1: 1, 3: 9, 5: 25, 7: 49, 9: 81}\n",
        "for i in squares:\n",
        "    print(squares[i])"
      ],
      "execution_count": 15,
      "outputs": [
        {
          "output_type": "stream",
          "name": "stdout",
          "text": [
            "1\n",
            "9\n",
            "25\n",
            "49\n",
            "81\n"
          ]
        }
      ]
    },
    {
      "cell_type": "markdown",
      "metadata": {
        "id": "YJENVRoUVqDu"
      },
      "source": [
        "# Python Dictionary Comprehension\n",
        "Dictionary comprehension is an elegant and concise way to create a new dictionary from an iterable in Python.\n",
        "\n",
        "Dictionary comprehension consists of an expression pair (key: value) followed by a for statement inside curly braces {}.\n",
        "\n",
        "Here is an example to make a dictionary with each item being a pair of a number and its square."
      ]
    },
    {
      "cell_type": "code",
      "metadata": {
        "colab": {
          "base_uri": "https://localhost:8080/"
        },
        "id": "0nj5VRQyVpkR",
        "outputId": "9dff1286-db76-4885-a2f1-7756839f9fe0"
      },
      "source": [
        "# Dictionary Comprehension\n",
        "squares = {x: x*x for x in range(6)}\n",
        "\n",
        "print(squares)"
      ],
      "execution_count": 12,
      "outputs": [
        {
          "output_type": "stream",
          "name": "stdout",
          "text": [
            "{0: 0, 1: 1, 2: 4, 3: 9, 4: 16, 5: 25}\n"
          ]
        }
      ]
    },
    {
      "cell_type": "markdown",
      "metadata": {
        "id": "IDHpwwTaWsVm"
      },
      "source": [
        "A dictionary comprehension can optionally contain more for or if statements.\n",
        "\n",
        "An optional if statement can filter out items to form the new dictionary.\n",
        "\n",
        "Here are some examples to make a dictionary with only odd items."
      ]
    },
    {
      "cell_type": "code",
      "metadata": {
        "colab": {
          "base_uri": "https://localhost:8080/"
        },
        "id": "hoBkdU0FWtOw",
        "outputId": "d264ec85-4ae5-40ef-d442-75f12252fca5"
      },
      "source": [
        "# Dictionary Comprehension with if conditional\n",
        "odd_squares = {x: x*x for x in range(11) if x % 2 == 1}\n",
        "\n",
        "print(odd_squares)"
      ],
      "execution_count": 13,
      "outputs": [
        {
          "output_type": "stream",
          "name": "stdout",
          "text": [
            "{1: 1, 3: 9, 5: 25, 7: 49, 9: 81}\n"
          ]
        }
      ]
    },
    {
      "cell_type": "markdown",
      "metadata": {
        "id": "XFG2mGibW7Ao"
      },
      "source": [
        "\n",
        "We can test if a key is in a dictionary or not using the keyword in. Notice that the membership test is only for the keys and not for the values."
      ]
    },
    {
      "cell_type": "code",
      "metadata": {
        "colab": {
          "base_uri": "https://localhost:8080/"
        },
        "id": "Z9xNca7pW6Rk",
        "outputId": "ccd2eff4-c1b2-45d8-9b5f-8bed67d33a50"
      },
      "source": [
        "# Membership Test for Dictionary Keys\n",
        "squares = {1: 1, 3: 9, 5: 25, 7: 49, 9: 81}\n",
        "\n",
        "# Output: True\n",
        "print(1 in squares)\n",
        "\n",
        "# Output: True\n",
        "print(2 not in squares)\n",
        "\n",
        "# membership tests for key only not value\n",
        "# Output: False\n",
        "print(49 in squares)"
      ],
      "execution_count": 14,
      "outputs": [
        {
          "output_type": "stream",
          "name": "stdout",
          "text": [
            "True\n",
            "True\n",
            "False\n"
          ]
        }
      ]
    },
    {
      "cell_type": "code",
      "metadata": {
        "id": "U-rOPlsdXr3p"
      },
      "source": [
        "# Dictionary Built-in Functions\n",
        "squares = {0: 0, 1: 1, 3: 9, 5: 25, 7: 49, 9: 81}\n",
        "\n",
        "# Output: False\n",
        "print(all(squares))\n",
        "\n",
        "# Output: True\n",
        "print(any(squares))\n",
        "\n",
        "# Output: 6\n",
        "print(len(squares))\n",
        "\n",
        "# Output: [0, 1, 3, 5, 7, 9]\n",
        "print(sorted(squares))"
      ],
      "execution_count": null,
      "outputs": []
    },
    {
      "cell_type": "markdown",
      "metadata": {
        "id": "JCyu9CBvsHlg"
      },
      "source": [
        "# Exceptions in Python\n",
        "Python has many built-in exceptions that are raised when your program encounters an error (something in the program goes wrong).\n",
        "\n",
        "When these exceptions occur, the Python interpreter stops the current process and passes it to the calling process until it is handled. If not handled, the program will crash."
      ]
    },
    {
      "cell_type": "code",
      "metadata": {
        "colab": {
          "base_uri": "https://localhost:8080/"
        },
        "id": "8JBf9jbCsJlj",
        "outputId": "335f3565-fa96-433b-881f-e886bf6d3744"
      },
      "source": [
        "# import module sys to get the type of exception\n",
        "import sys\n",
        "\n",
        "randomList = ['a', 0, 2]\n",
        "\n",
        "for entry in randomList:\n",
        "    try:\n",
        "        print(\"The entry is\", entry)\n",
        "        r = 1/int(entry)\n",
        "        break\n",
        "    except:\n",
        "        print(\"Oops!\", sys.exc_info()[0], \"occurred.\")\n",
        "        print(\"Next entry.\")\n",
        "        print()\n",
        "print(\"The reciprocal of\", entry, \"is\", r)"
      ],
      "execution_count": 4,
      "outputs": [
        {
          "output_type": "stream",
          "name": "stdout",
          "text": [
            "The entry is a\n",
            "Oops! <class 'ValueError'> occurred.\n",
            "Next entry.\n",
            "\n",
            "The entry is 0\n",
            "Oops! <class 'ZeroDivisionError'> occurred.\n",
            "Next entry.\n",
            "\n",
            "The entry is 2\n",
            "The reciprocal of 2 is 0.5\n"
          ]
        }
      ]
    },
    {
      "cell_type": "markdown",
      "metadata": {
        "id": "p_nvLtWDta2f"
      },
      "source": [
        "Since every exception in Python inherits from the base Exception class, we can also perform the above task in the following way:\n",
        "\n"
      ]
    },
    {
      "cell_type": "code",
      "metadata": {
        "colab": {
          "base_uri": "https://localhost:8080/"
        },
        "id": "uq_kiZLztbkE",
        "outputId": "92238537-3e5e-46fa-ceb8-2a742d22014f"
      },
      "source": [
        "# import module sys to get the type of exception\n",
        "import sys\n",
        "\n",
        "randomList = ['a', 0, 2]\n",
        "\n",
        "for entry in randomList:\n",
        "    try:\n",
        "        print(\"The entry is\", entry)\n",
        "        r = 1/int(entry)\n",
        "        break\n",
        "    except Exception as e:\n",
        "        print(\"Oops!\", e.__class__, \"occurred.\")\n",
        "        print(\"Next entry.\")\n",
        "        print()\n",
        "print(\"The reciprocal of\", entry, \"is\", r)"
      ],
      "execution_count": 6,
      "outputs": [
        {
          "output_type": "stream",
          "name": "stdout",
          "text": [
            "The entry is a\n",
            "Oops! <class 'ValueError'> occurred.\n",
            "Next entry.\n",
            "\n",
            "The entry is 0\n",
            "Oops! <class 'ZeroDivisionError'> occurred.\n",
            "Next entry.\n",
            "\n",
            "The entry is 2\n",
            "The reciprocal of 2 is 0.5\n"
          ]
        }
      ]
    },
    {
      "cell_type": "markdown",
      "metadata": {
        "id": "eIdxMawLtofd"
      },
      "source": [
        "# Catching spesific exceptions"
      ]
    },
    {
      "cell_type": "code",
      "metadata": {
        "id": "pSo_45zptnVh"
      },
      "source": [
        "try:\n",
        "   # do something\n",
        "   pass\n",
        "\n",
        "except ValueError:\n",
        "   # handle ValueError exception\n",
        "   pass\n",
        "\n",
        "except (TypeError, ZeroDivisionError):\n",
        "   # handle multiple exceptions\n",
        "   # TypeError and ZeroDivisionError\n",
        "   pass\n",
        "\n",
        "except:\n",
        "   # handle all other exceptions\n",
        "   pass"
      ],
      "execution_count": null,
      "outputs": []
    },
    {
      "cell_type": "markdown",
      "metadata": {
        "id": "0WBjXGh_t0XH"
      },
      "source": [
        "# Raising Exceptions in Python\n",
        "In Python programming, exceptions are raised when errors occur at runtime. We can also manually raise exceptions using the raise keyword.\n",
        "\n",
        "We can optionally pass values to the exception to clarify why that exception was raised."
      ]
    },
    {
      "cell_type": "code",
      "metadata": {
        "id": "FfYgyMZMt3GY"
      },
      "source": [
        ">>> raise KeyboardInterrupt\n",
        "Traceback (most recent call last):\n",
        "...\n",
        "KeyboardInterrupt\n",
        "\n",
        ">>> raise MemoryError(\"This is an argument\")\n",
        "Traceback (most recent call last):\n",
        "...\n",
        "MemoryError: This is an argument\n",
        "\n",
        ">>> try:\n",
        "...     a = int(input(\"Enter a positive integer: \"))\n",
        "...     if a <= 0:\n",
        "...         raise ValueError(\"That is not a positive number!\")\n",
        "... except ValueError as ve:\n",
        "...     print(ve)\n",
        "...    \n",
        "Enter a positive integer: -2\n",
        "That is not a positive number!"
      ],
      "execution_count": null,
      "outputs": []
    },
    {
      "cell_type": "markdown",
      "metadata": {
        "id": "Pxyk6BKGuewY"
      },
      "source": [
        "# Python try with else clause\n",
        "In some situations, you might want to run a certain block of code if the code block inside try ran without any errors. For these cases, you can use the optional else keyword with the try statement.\n",
        "\n",
        "Note: Exceptions in the else clause are not handled by the preceding except clauses.\n",
        "\n",
        "Let's look at an example:"
      ]
    },
    {
      "cell_type": "code",
      "metadata": {
        "colab": {
          "base_uri": "https://localhost:8080/"
        },
        "id": "WuO-DqxOukIv",
        "outputId": "943d2b9a-83b9-42c1-b97a-51805255c421"
      },
      "source": [
        "# program to print the reciprocal of even numbers\n",
        "\n",
        "try:\n",
        "    num = int(input(\"Enter a number: \"))\n",
        "    assert num % 2 == 0,\"Not an even number!\"\n",
        "except Exception as ase:\n",
        "    print(ase)\n",
        "else:\n",
        "    reciprocal = 1/num\n",
        "    print(reciprocal)"
      ],
      "execution_count": 8,
      "outputs": [
        {
          "output_type": "stream",
          "name": "stdout",
          "text": [
            "Enter a number: 3\n",
            "Not an even number!\n"
          ]
        }
      ]
    },
    {
      "cell_type": "markdown",
      "metadata": {
        "id": "JhIiC3oixBzl"
      },
      "source": [
        "However, if we pass 0, we get ZeroDivisionError as the code block inside else is not handled by preceding except."
      ]
    },
    {
      "cell_type": "markdown",
      "metadata": {
        "id": "zzUqMFmryUbx"
      },
      "source": [
        "# Python try...finally\n",
        "The try statement in Python can have an optional finally clause. This clause is executed no matter what, and is generally used to release external resources.\n",
        "\n",
        "For example, we may be connected to a remote data center through the network or working with a file or a Graphical User Interface (GUI).\n",
        "\n",
        "In all these circumstances, we must clean up the resource before the program comes to a halt whether it successfully ran or not. These actions (closing a file, GUI or disconnecting from network) are performed in the finally clause to guarantee the execution.\n",
        "\n",
        "Here is an example of file operations to illustrate this."
      ]
    },
    {
      "cell_type": "code",
      "metadata": {
        "id": "pMN8twVkyWxN"
      },
      "source": [
        "try:\n",
        "   f = open(\"test.txt\",encoding = 'utf-8')\n",
        "   # perform file operations\n",
        "finally:\n",
        "   f.close()"
      ],
      "execution_count": null,
      "outputs": []
    },
    {
      "cell_type": "markdown",
      "metadata": {
        "id": "dIoOh7UmyhfS"
      },
      "source": [
        "This type of construct makes sure that the file is closed even if an exception occurs during the program execution."
      ]
    },
    {
      "cell_type": "markdown",
      "metadata": {
        "id": "3IcyE6PYB9cH"
      },
      "source": [
        "#Creating Custom Exceptions\n",
        "In Python, users can define custom exceptions by creating a new class. This exception class has to be derived, either directly or indirectly, from the built-in Exception class. Most of the built-in exceptions are also derived from this class.\n",
        "\n"
      ]
    },
    {
      "cell_type": "code",
      "metadata": {
        "id": "L6l70zO4yiPh"
      },
      "source": [
        ">>> class CustomError(Exception):\n",
        "...     pass\n",
        "...\n",
        "\n",
        ">>> raise CustomError\n",
        "Traceback (most recent call last):\n",
        "...\n",
        "__main__.CustomError\n",
        "\n",
        ">>> raise CustomError(\"An error occurred\")\n",
        "Traceback (most recent call last):\n",
        "...\n",
        "__main__.CustomError: An error occurred"
      ],
      "execution_count": null,
      "outputs": []
    },
    {
      "cell_type": "markdown",
      "metadata": {
        "id": "IFfA3G_9F_ZE"
      },
      "source": [
        "Here, we have created a user-defined exception called CustomError which inherits from the Exception class. This new exception, like other exceptions, can be raised using the raise statement with an optional error message.\n",
        "\n",
        "When we are developing a large Python program, it is a good practice to place all the user-defined exceptions that our program raises in a separate file. Many standard modules do this. They define their exceptions separately as exceptions.py or errors.py (generally but not always).\n",
        "\n",
        "User-defined exception class can implement everything a normal class can do, but we generally make them simple and concise. Most implementations declare a custom base class and derive others exception classes from this base class. This concept is made clearer in the following example."
      ]
    },
    {
      "cell_type": "markdown",
      "metadata": {
        "id": "lnTDgLWkGyfQ"
      },
      "source": [
        "# Example: User-Defined Exception in Python\n",
        "In this example, we will illustrate how user-defined exceptions can be used in a program to raise and catch errors.\n",
        "\n",
        "This program will ask the user to enter a number until they guess a stored number correctly. To help them figure it out, a hint is provided whether their guess is greater than or less than the stored number."
      ]
    },
    {
      "cell_type": "code",
      "metadata": {
        "id": "V_xu6ps6GVAB"
      },
      "source": [
        "# define Python user-defined exceptions\n",
        "class Error(Exception):\n",
        "    \"\"\"Base class for other exceptions\"\"\"\n",
        "    pass\n",
        "\n",
        "\n",
        "class ValueTooSmallError(Error):\n",
        "    \"\"\"Raised when the input value is too small\"\"\"\n",
        "    pass\n",
        "\n",
        "\n",
        "class ValueTooLargeError(Error):\n",
        "    \"\"\"Raised when the input value is too large\"\"\"\n",
        "    pass\n",
        "\n",
        "\n",
        "# you need to guess this number\n",
        "number = 10\n",
        "\n",
        "# user guesses a number until he/she gets it right\n",
        "while True:\n",
        "    try:\n",
        "        i_num = int(input(\"Enter a number: \"))\n",
        "        if i_num < number:\n",
        "            raise ValueTooSmallError\n",
        "        elif i_num > number:\n",
        "            raise ValueTooLargeError\n",
        "        break\n",
        "    except ValueTooSmallError:\n",
        "        print(\"This value is too small, try again!\")\n",
        "        print()\n",
        "    except ValueTooLargeError:\n",
        "        print(\"This value is too large, try again!\")\n",
        "        print()\n",
        "\n",
        "print(\"Congratulations! You guessed it correctly.\")"
      ],
      "execution_count": null,
      "outputs": []
    },
    {
      "cell_type": "markdown",
      "metadata": {
        "id": "uGQHLhAIOi4m"
      },
      "source": [
        "# Customizing Exception Classes\n",
        "We can further customize this class to accept other arguments as per our needs.\n",
        "\n",
        "To learn about customizing the Exception classes, you need to have the basic knowledge of Object-Oriented programming."
      ]
    },
    {
      "cell_type": "code",
      "metadata": {
        "colab": {
          "base_uri": "https://localhost:8080/",
          "height": 212
        },
        "id": "rWE_UbZqOlB7",
        "outputId": "44efe273-5838-448c-c04a-dad13dec9bad"
      },
      "source": [
        "class SalaryNotInRangeError(Exception):\n",
        "    \"\"\"Exception raised for errors in the input salary.\n",
        "\n",
        "    Attributes:\n",
        "        salary -- input salary which caused the error\n",
        "        message -- explanation of the error\n",
        "    \"\"\"\n",
        "\n",
        "    def __init__(self, salary, message=\"Salary is not in (5000, 15000) range\"):\n",
        "        self.salary = salary\n",
        "        self.message = message\n",
        "        super().__init__(self.message)\n",
        "\n",
        "\n",
        "salary = int(input(\"Enter salary amount: \"))\n",
        "if not 5000 < salary < 15000:\n",
        "    raise SalaryNotInRangeError(salary)"
      ],
      "execution_count": 1,
      "outputs": [
        {
          "name": "stdout",
          "output_type": "stream",
          "text": [
            "Enter salary amount: 2000\n"
          ]
        },
        {
          "output_type": "error",
          "ename": "SalaryNotInRangeError",
          "evalue": "ignored",
          "traceback": [
            "\u001b[0;31m---------------------------------------------------------------------------\u001b[0m",
            "\u001b[0;31mSalaryNotInRangeError\u001b[0m                     Traceback (most recent call last)",
            "\u001b[0;32m<ipython-input-1-6ab0f28c63a7>\u001b[0m in \u001b[0;36m<module>\u001b[0;34m()\u001b[0m\n\u001b[1;32m     15\u001b[0m \u001b[0msalary\u001b[0m \u001b[0;34m=\u001b[0m \u001b[0mint\u001b[0m\u001b[0;34m(\u001b[0m\u001b[0minput\u001b[0m\u001b[0;34m(\u001b[0m\u001b[0;34m\"Enter salary amount: \"\u001b[0m\u001b[0;34m)\u001b[0m\u001b[0;34m)\u001b[0m\u001b[0;34m\u001b[0m\u001b[0;34m\u001b[0m\u001b[0m\n\u001b[1;32m     16\u001b[0m \u001b[0;32mif\u001b[0m \u001b[0;32mnot\u001b[0m \u001b[0;36m5000\u001b[0m \u001b[0;34m<\u001b[0m \u001b[0msalary\u001b[0m \u001b[0;34m<\u001b[0m \u001b[0;36m15000\u001b[0m\u001b[0;34m:\u001b[0m\u001b[0;34m\u001b[0m\u001b[0;34m\u001b[0m\u001b[0m\n\u001b[0;32m---> 17\u001b[0;31m     \u001b[0;32mraise\u001b[0m \u001b[0mSalaryNotInRangeError\u001b[0m\u001b[0;34m(\u001b[0m\u001b[0msalary\u001b[0m\u001b[0;34m)\u001b[0m\u001b[0;34m\u001b[0m\u001b[0;34m\u001b[0m\u001b[0m\n\u001b[0m",
            "\u001b[0;31mSalaryNotInRangeError\u001b[0m: Salary is not in (5000, 15000) range"
          ]
        }
      ]
    },
    {
      "cell_type": "markdown",
      "metadata": {
        "id": "Z-u4m2zbOo6e"
      },
      "source": [
        "Here, we have overridden the constructor of the Exception class to accept our own custom arguments salary and message. Then, the constructor of the parent Exception class is called manually with the self.message argument using super().\n",
        "\n",
        "The custom self.salary attribute is defined to be used later.\n",
        "\n",
        "The inherited __str__ method of the Exception class is then used to display the corresponding message when SalaryNotInRangeError is raised.\n",
        "\n",
        "We can also customize the __str__ method itself by overriding it."
      ]
    },
    {
      "cell_type": "code",
      "metadata": {
        "colab": {
          "base_uri": "https://localhost:8080/",
          "height": 212
        },
        "id": "rnIoA2osO2tD",
        "outputId": "29518b51-d756-4506-f2bf-659a9a87e6cd"
      },
      "source": [
        "class SalaryNotInRangeError(Exception):\n",
        "    \"\"\"Exception raised for errors in the input salary.\n",
        "\n",
        "    Attributes:\n",
        "        salary -- input salary which caused the error\n",
        "        message -- explanation of the error\n",
        "    \"\"\"\n",
        "\n",
        "    def __init__(self, salary, message=\"Salary is not in (5000, 15000) range\"):\n",
        "        self.salary = salary\n",
        "        self.message = message\n",
        "        super().__init__(self.message)\n",
        "\n",
        "    def __str__(self):\n",
        "        return f'{self.salary} -> {self.message}'\n",
        "\n",
        "\n",
        "salary = int(input(\"Enter salary amount: \"))\n",
        "if not 5000 < salary < 15000:\n",
        "    raise SalaryNotInRangeError(salary)"
      ],
      "execution_count": 2,
      "outputs": [
        {
          "name": "stdout",
          "output_type": "stream",
          "text": [
            "Enter salary amount: 2000\n"
          ]
        },
        {
          "output_type": "error",
          "ename": "SalaryNotInRangeError",
          "evalue": "ignored",
          "traceback": [
            "\u001b[0;31m---------------------------------------------------------------------------\u001b[0m",
            "\u001b[0;31mSalaryNotInRangeError\u001b[0m                     Traceback (most recent call last)",
            "\u001b[0;32m<ipython-input-2-c454c1331524>\u001b[0m in \u001b[0;36m<module>\u001b[0;34m()\u001b[0m\n\u001b[1;32m     18\u001b[0m \u001b[0msalary\u001b[0m \u001b[0;34m=\u001b[0m \u001b[0mint\u001b[0m\u001b[0;34m(\u001b[0m\u001b[0minput\u001b[0m\u001b[0;34m(\u001b[0m\u001b[0;34m\"Enter salary amount: \"\u001b[0m\u001b[0;34m)\u001b[0m\u001b[0;34m)\u001b[0m\u001b[0;34m\u001b[0m\u001b[0;34m\u001b[0m\u001b[0m\n\u001b[1;32m     19\u001b[0m \u001b[0;32mif\u001b[0m \u001b[0;32mnot\u001b[0m \u001b[0;36m5000\u001b[0m \u001b[0;34m<\u001b[0m \u001b[0msalary\u001b[0m \u001b[0;34m<\u001b[0m \u001b[0;36m15000\u001b[0m\u001b[0;34m:\u001b[0m\u001b[0;34m\u001b[0m\u001b[0;34m\u001b[0m\u001b[0m\n\u001b[0;32m---> 20\u001b[0;31m     \u001b[0;32mraise\u001b[0m \u001b[0mSalaryNotInRangeError\u001b[0m\u001b[0;34m(\u001b[0m\u001b[0msalary\u001b[0m\u001b[0;34m)\u001b[0m\u001b[0;34m\u001b[0m\u001b[0;34m\u001b[0m\u001b[0m\n\u001b[0m",
            "\u001b[0;31mSalaryNotInRangeError\u001b[0m: 2000 -> Salary is not in (5000, 15000) range"
          ]
        }
      ]
    },
    {
      "cell_type": "markdown",
      "metadata": {
        "id": "aQK_EhRV09Ux"
      },
      "source": [
        "## Creating Class and Object in Python\n",
        "Classes provide a means of bundling data and functionality together. Creating a new class creates a new type of object, allowing new instances of that type to be made. Each class instance can have attributes attached to it for maintaining its state. Class instances can also have methods (defined by its class) for modifying its state."
      ]
    },
    {
      "cell_type": "code",
      "metadata": {
        "colab": {
          "base_uri": "https://localhost:8080/"
        },
        "id": "EXlOgBzI0-gA",
        "outputId": "554218f7-f8ad-4c3e-8154-6da3f3700774"
      },
      "source": [
        "class Parrot:\n",
        "\n",
        "    # class attribute\n",
        "    species = \"bird\"\n",
        "\n",
        "    # instance attribute\n",
        "    def __init__(self, name, age):\n",
        "        self.name = name\n",
        "        self.age = age\n",
        "\n",
        "# instantiate the Parrot class\n",
        "blu = Parrot(\"Blu\", 10)\n",
        "woo = Parrot(\"Woo\", 15)\n",
        "\n",
        "# access the class attributes\n",
        "print(\"Blu is a {}\".format(blu.__class__.species))\n",
        "print(\"Woo is also a {}\".format(woo.__class__.species))\n",
        "\n",
        "# access the instance attributes\n",
        "print(\"{} is {} years old\".format( blu.name, blu.age))\n",
        "print(\"{} is {} years old\".format( woo.name, woo.age))"
      ],
      "execution_count": 1,
      "outputs": [
        {
          "output_type": "stream",
          "name": "stdout",
          "text": [
            "Blu is a bird\n",
            "Woo is also a bird\n",
            "Blu is 10 years old\n",
            "Woo is 15 years old\n"
          ]
        }
      ]
    },
    {
      "cell_type": "markdown",
      "metadata": {
        "id": "Pf9q_Hfq1rkS"
      },
      "source": [
        "In the above program, we created a class with the name Parrot. Then, we define attributes. The attributes are a characteristic of an object.\n",
        "\n",
        "These attributes are defined inside the __init__ method of the class. It is the initializer method that is first run as soon as the object is created.\n",
        "\n",
        "Then, we create instances of the Parrot class. Here, blu and woo are references (value) to our new objects.\n",
        "\n",
        "We can access the class attribute using __class__.species. Class attributes are the same for all instances of a class. Similarly, we access the instance attributes using blu.name and blu.age. However, instance attributes are different for every instance of a class."
      ]
    },
    {
      "cell_type": "markdown",
      "metadata": {
        "id": "mt8S8Nsb2FQ6"
      },
      "source": [
        "# Methods\n",
        "Methods are functions defined inside the body of a class. They are used to define the behaviors of an object.\n",
        "\n",
        "Any function object that is a class attribute defines a method for instances of that class.\n",
        "\n",
        "When a non-data attribute of an instance is referenced, the instance’s class is searched. If the name denotes a valid class attribute that is a function object, a method object is created by packing (pointers to) the instance object and the function object just found together in an abstract object: this is the method object. When the method object is called with an argument list, a new argument list is constructed from the instance object and the argument list, and the function object is called with this new argument list."
      ]
    },
    {
      "cell_type": "code",
      "metadata": {
        "colab": {
          "base_uri": "https://localhost:8080/"
        },
        "id": "2xAMAyOK1qYZ",
        "outputId": "65036343-f8b5-4231-f512-0cd1c8e8a6e2"
      },
      "source": [
        "class Parrot:\n",
        "    \n",
        "    # instance attributes\n",
        "    def __init__(self, name, age):\n",
        "        self.name = name\n",
        "        self.age = age\n",
        "    \n",
        "    # instance method\n",
        "    def sing(self, song):\n",
        "        return \"{} sings {}\".format(self.name, song)\n",
        "\n",
        "    def dance(self):\n",
        "        return \"{} is now dancing\".format(self.name)\n",
        "\n",
        "# instantiate the object\n",
        "blu = Parrot(\"Blu\", 10)\n",
        "\n",
        "# call our instance methods\n",
        "print(blu.sing(\"'Happy'\"))\n",
        "print(blu.dance())"
      ],
      "execution_count": 2,
      "outputs": [
        {
          "output_type": "stream",
          "name": "stdout",
          "text": [
            "Blu sings 'Happy'\n",
            "Blu is now dancing\n"
          ]
        }
      ]
    },
    {
      "cell_type": "code",
      "metadata": {
        "id": "hBYdrfWx1y6s"
      },
      "source": [
        "help(Parrot)"
      ],
      "execution_count": null,
      "outputs": []
    },
    {
      "cell_type": "markdown",
      "metadata": {
        "id": "TRtRZHBg2bIa"
      },
      "source": [
        "In the above program, we define two methods i.e sing() and dance(). These are called instance methods because they are called on an instance object i.e blu.Now you must be familiar with class object, instance object, function object, method object and their differences."
      ]
    },
    {
      "cell_type": "markdown",
      "metadata": {
        "id": "S2XHGgYhJLiF"
      },
      "source": [
        "# Inheritance\n",
        "Inheritance is a way of creating a new class for using details of an existing class without modifying it. The newly formed class is a derived class (or child class). Similarly, the existing class is a base class (or parent class)."
      ]
    },
    {
      "cell_type": "code",
      "metadata": {
        "colab": {
          "base_uri": "https://localhost:8080/"
        },
        "id": "L0yIpEbDJXQq",
        "outputId": "cf837255-8942-435f-f69b-c6796fd24dca"
      },
      "source": [
        "# parent class\n",
        "class Bird:\n",
        "    \n",
        "    def __init__(self):\n",
        "        print(\"Bird is ready\")\n",
        "\n",
        "    def whoisThis(self):\n",
        "        print(\"Bird\")\n",
        "\n",
        "    def swim(self):\n",
        "        print(\"Swim faster\")\n",
        "\n",
        "# child class\n",
        "class Penguin(Bird):\n",
        "\n",
        "    def __init__(self):\n",
        "        # call super() function\n",
        "        super().__init__()\n",
        "        print(\"Penguin is ready\")\n",
        "\n",
        "    def whoisThis(self):\n",
        "        print(\"Penguin\")\n",
        "\n",
        "    def run(self):\n",
        "        print(\"Run faster\")\n",
        "\n",
        "peggy = Penguin()\n",
        "peggy.whoisThis()\n",
        "peggy.swim()\n",
        "peggy.run()"
      ],
      "execution_count": 3,
      "outputs": [
        {
          "output_type": "stream",
          "name": "stdout",
          "text": [
            "Bird is ready\n",
            "Penguin is ready\n",
            "Penguin\n",
            "Swim faster\n",
            "Run faster\n"
          ]
        }
      ]
    },
    {
      "cell_type": "markdown",
      "metadata": {
        "id": "a1j8nR7rJmSF"
      },
      "source": [
        "In the above program, we created two classes i.e. Bird (parent class) and Penguin (child class). The child class inherits the functions of parent class. We can see this from the swim() method.\n",
        "\n",
        "Again, the child class modified the behavior of the parent class. We can see this from the whoisThis() method. Furthermore, we extend the functions of the parent class, by creating a new run() method.\n",
        "\n",
        "Additionally, we use the super() function inside the __init__() method. This allows us to run the __init__() method of the parent class inside the child class."
      ]
    },
    {
      "cell_type": "markdown",
      "metadata": {
        "id": "aBJHHCZzJ3fD"
      },
      "source": [
        "# Encapsulation\n",
        "Using OOP in Python, we can restrict access to methods and variables. This prevents data from direct modification which is called encapsulation. In Python, we denote private attributes using underscore as the prefix i.e single _ or double __.\n",
        "\n",
        "“Private” instance variables that cannot be accessed except from inside an object don’t exist in Python. However, there is a convention that is followed by most Python code: a name prefixed with an underscore (e.g. _spam) should be treated as a non-public part of the API (whether it is a function, a method or a data member). It should be considered an implementation detail and subject to change without notice.\n",
        "\n",
        "One final point about single leading underscores is that they while they don’t impact the user’s ability to access the objects, they do impact how what is included when a module is imported — as _private objects are not included in from x import * style import statements."
      ]
    },
    {
      "cell_type": "code",
      "metadata": {
        "colab": {
          "base_uri": "https://localhost:8080/"
        },
        "id": "H3UIOXUwJ5zq",
        "outputId": "d12bc94d-ffac-4757-cb80-1a15f24a17f1"
      },
      "source": [
        "class Computer:\n",
        "\n",
        "    def __init__(self):\n",
        "        self.__maxprice = 900\n",
        "\n",
        "    def sell_price(self):\n",
        "        print(\"Selling Price: {}\".format(self.__maxprice))\n",
        "\n",
        "    def setMaxPrice(self, price):\n",
        "        self.__maxprice = price\n",
        "\n",
        "c = Computer()\n",
        "c.sell_price()\n",
        "\n",
        "\n"
      ],
      "execution_count": 5,
      "outputs": [
        {
          "output_type": "stream",
          "name": "stdout",
          "text": [
            "Selling Price: 900\n"
          ]
        }
      ]
    },
    {
      "cell_type": "code",
      "metadata": {
        "colab": {
          "base_uri": "https://localhost:8080/"
        },
        "id": "3OZdesh7QNuA",
        "outputId": "5a5da8a6-35c9-44ad-af54-396469db4392"
      },
      "source": [
        "c.__dict__"
      ],
      "execution_count": 6,
      "outputs": [
        {
          "output_type": "execute_result",
          "data": {
            "text/plain": [
              "{'_Computer__maxprice': 900}"
            ]
          },
          "metadata": {},
          "execution_count": 6
        }
      ]
    },
    {
      "cell_type": "code",
      "metadata": {
        "colab": {
          "base_uri": "https://localhost:8080/"
        },
        "id": "QWPy4korQE1F",
        "outputId": "e5ded4d9-e954-4de9-f879-e5e54c8cddcf"
      },
      "source": [
        "# cant change object's price arrtibute due to name mangling, but it attaches a new variable to the object.\n",
        "c.__maxprice = 1000\n",
        "c.sell_price()\n"
      ],
      "execution_count": 7,
      "outputs": [
        {
          "output_type": "stream",
          "name": "stdout",
          "text": [
            "Selling Price: 900\n"
          ]
        }
      ]
    },
    {
      "cell_type": "code",
      "metadata": {
        "colab": {
          "base_uri": "https://localhost:8080/"
        },
        "id": "x6OxFPB5QJII",
        "outputId": "2490215d-e865-4ee7-f4e3-ba092d7b9afa"
      },
      "source": [
        "c.__dict__"
      ],
      "execution_count": 27,
      "outputs": [
        {
          "output_type": "execute_result",
          "data": {
            "text/plain": [
              "{'_Computer__maxprice': 900, '__maxprice': 1000}"
            ]
          },
          "metadata": {},
          "execution_count": 27
        }
      ]
    },
    {
      "cell_type": "code",
      "metadata": {
        "colab": {
          "base_uri": "https://localhost:8080/"
        },
        "id": "ANwtAtcqOcAU",
        "outputId": "5162d0d0-7395-4217-9829-55610827666a"
      },
      "source": [
        "# using setter function\n",
        "c.setMaxPrice(1000)\n",
        "c.sell_price()"
      ],
      "execution_count": 10,
      "outputs": [
        {
          "output_type": "stream",
          "name": "stdout",
          "text": [
            "Selling Price: 1000\n"
          ]
        }
      ]
    },
    {
      "cell_type": "markdown",
      "metadata": {
        "id": "Nx-0DDssNqf1"
      },
      "source": [
        "#Name Mangling\n",
        "Since there is a valid use-case for class-private members (namely to avoid name clashes of names with names defined by subclasses), there is limited support for such a mechanism, called name mangling. Any identifier of the form __spam (at least two leading underscores, at most one trailing underscore) is textually replaced with _ classname __ spam, where classname is the current class name with leading underscore(s) stripped. This mangling is done without regard to the syntactic position of the identifier, as long as it occurs within the definition of a class."
      ]
    },
    {
      "cell_type": "code",
      "metadata": {
        "colab": {
          "base_uri": "https://localhost:8080/",
          "height": 162
        },
        "id": "Cd8fIxPhNwOF",
        "outputId": "4c3f3090-b432-42c3-e8c0-7f7b8e71b4d6"
      },
      "source": [
        "c._Computer__maxprice"
      ],
      "execution_count": 4,
      "outputs": [
        {
          "output_type": "error",
          "ename": "NameError",
          "evalue": "ignored",
          "traceback": [
            "\u001b[0;31m---------------------------------------------------------------------------\u001b[0m",
            "\u001b[0;31mNameError\u001b[0m                                 Traceback (most recent call last)",
            "\u001b[0;32m<ipython-input-4-03270ce60c39>\u001b[0m in \u001b[0;36m<module>\u001b[0;34m()\u001b[0m\n\u001b[0;32m----> 1\u001b[0;31m \u001b[0mc\u001b[0m\u001b[0;34m.\u001b[0m\u001b[0m_Computer__maxprice\u001b[0m\u001b[0;34m\u001b[0m\u001b[0;34m\u001b[0m\u001b[0m\n\u001b[0m",
            "\u001b[0;31mNameError\u001b[0m: name 'c' is not defined"
          ]
        }
      ]
    },
    {
      "cell_type": "code",
      "metadata": {
        "colab": {
          "base_uri": "https://localhost:8080/",
          "height": 162
        },
        "id": "hARRCObpNqRK",
        "outputId": "f626fea9-30e8-426f-bd3b-95a8ea37ae5b"
      },
      "source": [
        "c._Computer__maxprice=333"
      ],
      "execution_count": 3,
      "outputs": [
        {
          "output_type": "error",
          "ename": "NameError",
          "evalue": "ignored",
          "traceback": [
            "\u001b[0;31m---------------------------------------------------------------------------\u001b[0m",
            "\u001b[0;31mNameError\u001b[0m                                 Traceback (most recent call last)",
            "\u001b[0;32m<ipython-input-3-b8cf2baedf2f>\u001b[0m in \u001b[0;36m<module>\u001b[0;34m()\u001b[0m\n\u001b[0;32m----> 1\u001b[0;31m \u001b[0mc\u001b[0m\u001b[0;34m.\u001b[0m\u001b[0m_Computer__maxprice\u001b[0m\u001b[0;34m=\u001b[0m\u001b[0;36m333\u001b[0m\u001b[0;34m\u001b[0m\u001b[0;34m\u001b[0m\u001b[0m\n\u001b[0m",
            "\u001b[0;31mNameError\u001b[0m: name 'c' is not defined"
          ]
        }
      ]
    },
    {
      "cell_type": "code",
      "metadata": {
        "id": "vVagOj21KA8x"
      },
      "source": [
        "c.sell_price()"
      ],
      "execution_count": null,
      "outputs": []
    },
    {
      "cell_type": "code",
      "metadata": {
        "id": "PLUFY4CDP-gY"
      },
      "source": [
        "c.__dict__"
      ],
      "execution_count": null,
      "outputs": []
    },
    {
      "cell_type": "markdown",
      "metadata": {
        "id": "pvOCsOy_CL-7"
      },
      "source": [
        "# Underscore\n",
        "When in doubt about python naming, Pep-8 is a good place to start - but quickly _ var is a weak “private” or “protected” indicator, __ var is used for name mangling and should generally be avoided if possible, var _ is used to avoid naming collisions with python’s keywords, __ var __ is used by python’s magic methods, and finally, _ is used as a variable for assigning unused values."
      ]
    },
    {
      "cell_type": "markdown",
      "metadata": {
        "id": "PfcYHje3Ssau"
      },
      "source": [
        "# Polymorphism\n",
        "Polymorphism is a very important concept in programming. It refers to the use of a single type entity (method, operator or object) to represent different types in different scenarios.\n",
        "\n",
        "Polymorphism is an ability (in OOP) to use a common interface for multiple forms (data types).\n",
        "\n",
        "Suppose, we need to color a shape, there are multiple shape options (rectangle, square, circle). However we could use the same method to color any shape. This concept is called Polymorphism."
      ]
    },
    {
      "cell_type": "code",
      "metadata": {
        "colab": {
          "base_uri": "https://localhost:8080/"
        },
        "id": "-xl9BZ9uSuT8",
        "outputId": "37f2e3be-6df0-4b11-b985-37571ed17b93"
      },
      "source": [
        "class Parrot:\n",
        "\n",
        "    def fly(self):\n",
        "        print(\"Parrot can fly\")\n",
        "    \n",
        "    def swim(self):\n",
        "        print(\"Parrot can't swim\")\n",
        "\n",
        "class Penguin:\n",
        "\n",
        "    def fly(self):\n",
        "        print(\"Penguin can't fly\")\n",
        "    \n",
        "    def swim(self):\n",
        "        print(\"Penguin can swim\")\n",
        "\n",
        "# common interface\n",
        "def flying_test(bird):\n",
        "    bird.fly()\n",
        "\n",
        "#instantiate objects\n",
        "blu = Parrot()\n",
        "peggy = Penguin()\n",
        "\n",
        "# passing the object\n",
        "flying_test(blu)\n",
        "flying_test(peggy)"
      ],
      "execution_count": 28,
      "outputs": [
        {
          "output_type": "stream",
          "name": "stdout",
          "text": [
            "Parrot can fly\n",
            "Penguin can't fly\n"
          ]
        }
      ]
    },
    {
      "cell_type": "markdown",
      "metadata": {
        "id": "0ERAXib2Zftv"
      },
      "source": [
        "In the above program, we defined two classes Parrot and Penguin. Each of them have a common fly() method. However, their functions are different.\n",
        "\n",
        "To use polymorphism, we created a common interface i.e flying_test() function that takes any object and calls the object's fly() method. Thus, when we passed the blu and peggy objects in the flying_test() function, it ran effectively."
      ]
    },
    {
      "cell_type": "markdown",
      "metadata": {
        "id": "pZX7Mod2brXg"
      },
      "source": [
        "Another example:"
      ]
    },
    {
      "cell_type": "code",
      "metadata": {
        "id": "2uhYGMmNbmvW"
      },
      "source": [
        "class India():\n",
        "\tdef capital(self):\n",
        "\t\tprint(\"New Delhi is the capital of India.\")\n",
        "\n",
        "\tdef language(self):\n",
        "\t\tprint(\"Hindi is the most widely spoken language of India.\")\n",
        "\n",
        "\tdef type(self):\n",
        "\t\tprint(\"India is a developing country.\")\n",
        "\n",
        "class USA():\n",
        "\tdef capital(self):\n",
        "\t\tprint(\"Washington, D.C. is the capital of USA.\")\n",
        "\n",
        "\tdef language(self):\n",
        "\t\tprint(\"English is the primary language of USA.\")\n",
        "\n",
        "\tdef type(self):\n",
        "\t\tprint(\"USA is a developed country.\")\n",
        "\n",
        "obj_ind = India()\n",
        "obj_usa = USA()\n",
        "for country in (obj_ind, obj_usa):\n",
        "\tcountry.capital()\n",
        "\tcountry.language()\n",
        "\tcountry.type()\n"
      ],
      "execution_count": null,
      "outputs": []
    },
    {
      "cell_type": "markdown",
      "metadata": {
        "id": "z_98LoEDfNKn"
      },
      "source": [
        "## Python Operator Overloading\n",
        "Python operators work for built-in classes. But the same operator behaves differently with different types. For example, the + operator will perform arithmetic addition on two numbers, merge two lists, or concatenate two strings.\n",
        "\n",
        "This feature in Python that allows the same operator to have different meaning according to the context is called operator overloading.\n",
        "\n",
        "The following methods can be defined to emulate numeric objects. Methods corresponding to operations that are not supported by the particular kind of number implemented (e.g., bitwise operations for non-integral numbers) should be left undefined.\n",
        "\n",
        "object.__ add__(self, other)\n",
        "object.__ sub__(self, other)\n",
        "object.__ mul__(self, other)\n",
        "object.__ matmul__(self, other)\n",
        "object.__ truediv__(self, other)\n",
        "object.__ floordiv__(self, other)\n",
        "object.__ mod__(self, other)\n",
        "object.__ divmod__(self, other)\n",
        "object.__ pow__(self, other[, modulo])\n",
        "object.__ lshift__(self, other)\n",
        "object.__ rshift__(self, other)\n",
        "object.__ and__(self, other)\n",
        "object.__ xor__(self, other)\n",
        "object.__ or__(self, other)\n",
        "\n",
        "These methods are called to implement the binary arithmetic operations (+, -, *, @, /, //, %, divmod(), pow(), **, <<, >>, &, ^, |). For instance, to evaluate the expression x + y, where x is an instance of a class that has an __ add __() method, x.__ add __(y) is called. The __ divmod __() method should be the equivalent to using __ floordiv __() and __ mod __(); it should not be related to __ truediv __(). Note that __ pow __() should be defined to accept an optional third argument if the ternary version of the built-in pow() function is to be supported"
      ]
    },
    {
      "cell_type": "markdown",
      "metadata": {
        "id": "CM4pBO-CgxLi"
      },
      "source": [
        "# Overloading the + Operator\n",
        "To overload the + operator, we will need to implement __ add __() function in the class. With great power comes great responsibility. We can do whatever we like, inside this function. But it is more sensible to return a Point object of the coordinate sum.\n",
        "\n"
      ]
    },
    {
      "cell_type": "code",
      "metadata": {
        "colab": {
          "base_uri": "https://localhost:8080/"
        },
        "id": "phN-aMYsgv8m",
        "outputId": "20e68c91-baf7-422b-919a-b62ec4ecdbb3"
      },
      "source": [
        "class Point:\n",
        "    def __init__(self, x=0, y=0):\n",
        "        self.x = x\n",
        "        self.y = y\n",
        "\n",
        "    def __str__(self):\n",
        "        return \"({0},{1})\".format(self.x, self.y)\n",
        "\n",
        "    def __add__(self, other):\n",
        "        x = self.x + other.x\n",
        "        y = self.y + other.y\n",
        "        return Point(x, y)\n",
        "\n",
        "\n",
        "p1 = Point(1, 2)\n",
        "p2 = Point(2, 3)\n",
        "\n",
        "print(p1+p2)"
      ],
      "execution_count": 1,
      "outputs": [
        {
          "output_type": "stream",
          "name": "stdout",
          "text": [
            "(3,5)\n"
          ]
        }
      ]
    },
    {
      "cell_type": "code",
      "metadata": {
        "colab": {
          "base_uri": "https://localhost:8080/"
        },
        "id": "elFKlectfP-7",
        "outputId": "0602abc7-ba90-45e0-fbf8-c45503ae7338"
      },
      "source": [
        "p3=p1.__add__(p2)\n",
        "print(p3)"
      ],
      "execution_count": 12,
      "outputs": [
        {
          "output_type": "stream",
          "name": "stdout",
          "text": [
            "(3,5)\n"
          ]
        }
      ]
    },
    {
      "cell_type": "markdown",
      "metadata": {
        "id": "Vd_ipvNYk3ND"
      },
      "source": [
        "# Overloading Comparison Operators\n",
        "Python does not limit operator overloading to arithmetic operators only. We can overload comparison operators as well.\n",
        "\n",
        "Suppose we wanted to implement the less than symbol < symbol in our Point class.\n",
        "\n",
        "Let us compare the magnitude of these points from the origin and return the result for this purpose. It can be implemented as follows."
      ]
    },
    {
      "cell_type": "code",
      "metadata": {
        "colab": {
          "base_uri": "https://localhost:8080/"
        },
        "id": "uZmsT93XlWQd",
        "outputId": "aa37827a-0077-4dcf-c501-13f5b67ecd2c"
      },
      "source": [
        "# overloading the less than operator\n",
        "class Point:\n",
        "    def __init__(self, x=0, y=0):\n",
        "        self.x = x\n",
        "        self.y = y\n",
        "\n",
        "    def __str__(self):\n",
        "        return \"({0},{1})\".format(self.x, self.y)\n",
        "\n",
        "    def __lt__(self, other):\n",
        "        self_mag = (self.x ** 2) + (self.y ** 2)\n",
        "        other_mag = (other.x ** 2) + (other.y ** 2)\n",
        "        return self_mag < other_mag\n",
        "\n",
        "p1 = Point(1,1)\n",
        "p2 = Point(-2,-3)\n",
        "p3 = Point(1,-1)\n",
        "\n",
        "# use less than\n",
        "print(p1<p2)\n",
        "print(p2<p3)\n",
        "print(p1<p3)"
      ],
      "execution_count": 13,
      "outputs": [
        {
          "output_type": "stream",
          "name": "stdout",
          "text": [
            "True\n",
            "False\n",
            "False\n"
          ]
        }
      ]
    },
    {
      "cell_type": "markdown",
      "metadata": {
        "id": "WL4-ydFsvA0F"
      },
      "source": [
        "# Python Iterators\n",
        "Iterators are objects that can be iterated upon. In this tutorial, you will learn how iterator works and how you can build your own iterator using __ iter __ and __ next __ methods.\n",
        "\n",
        "Video: Python Iterators\n",
        "\n",
        "Iterators in Python\n",
        "Iterators are everywhere in Python. They are elegantly implemented within for loops, comprehensions, generators etc. but are hidden in plain sight.\n",
        "\n",
        "Iterator in Python is simply an object that can be iterated upon. An object which will return data, one element at a time.\n",
        "\n",
        "Technically speaking, a Python iterator object must implement two special methods, __ iter __() and __ next __(), collectively called the iterator protocol.\n",
        "\n",
        "An object is called iterable if we can get an iterator from it. Most built-in containers in Python like: list, tuple, string etc. are iterables.\n",
        "\n",
        "The iter() function (which in turn calls the __ iter __() method) returns an iterator from them.\n",
        "\n"
      ]
    },
    {
      "cell_type": "code",
      "metadata": {
        "id": "E7hU7YLyviOt"
      },
      "source": [
        "# define a list\n",
        "my_list = [4, 7, 0, 3]\n",
        "\n",
        "# get an iterator using iter()\n",
        "my_iter = iter(my_list)\n",
        "\n",
        "# iterate through it using next()\n",
        "\n",
        "# Output: 4\n",
        "print(next(my_iter))\n",
        "\n",
        "# Output: 7\n",
        "print(next(my_iter))\n",
        "\n",
        "# next(obj) is same as obj.__next__()\n",
        "\n",
        "# Output: 0\n",
        "print(my_iter.__next__())\n",
        "\n",
        "# Output: 3\n",
        "print(my_iter.__next__())\n",
        "\n",
        "# This will raise error, no items left\n",
        "next(my_iter)"
      ],
      "execution_count": null,
      "outputs": []
    },
    {
      "cell_type": "code",
      "metadata": {
        "colab": {
          "base_uri": "https://localhost:8080/"
        },
        "id": "Tg5GULp7wfSg",
        "outputId": "e6e32b70-deff-46f6-af35-d8635fcbe4b6"
      },
      "source": [
        "import random\n",
        "class MyRandSeq:\n",
        "    def __init__(self,len=5):\n",
        "        self.index=len\n",
        "        self.numbers=[random.random() for c in range(len)]\n",
        "    def __iter__(self):\n",
        "        return self\n",
        "    def __next__(self):\n",
        "        if (self.index>0):\n",
        "            self.index = self.index -1\n",
        "            return self.numbers[self.index]\n",
        "        else:\n",
        "            raise StopIteration\n",
        "\n",
        "\n",
        "m=MyRandSeq(2)\n",
        "mi=iter(m)\n",
        "print(next(mi))\n",
        "print(next(mi))\n",
        "#print(next(mi)) #will raise StopIteration exception\n",
        "\n"
      ],
      "execution_count": 3,
      "outputs": [
        {
          "output_type": "stream",
          "name": "stdout",
          "text": [
            "0.7023970897312212\n",
            "0.40712782368171263\n"
          ]
        }
      ]
    },
    {
      "cell_type": "markdown",
      "metadata": {
        "id": "JVFaXmXvvwYR"
      },
      "source": [
        "the for loop was able to iterate automatically through the list.\n",
        "\n",
        "In fact the for loop can iterate over any iterable. Let's take a closer look at how the for loop is actually implemented in Python."
      ]
    },
    {
      "cell_type": "code",
      "metadata": {
        "id": "Y017hayzv-8g"
      },
      "source": [
        "for element in iterable:\n",
        "    # do something with element"
      ],
      "execution_count": null,
      "outputs": []
    },
    {
      "cell_type": "markdown",
      "metadata": {
        "id": "kRgA03YRwG1I"
      },
      "source": [
        "is actually implemented as."
      ]
    },
    {
      "cell_type": "code",
      "metadata": {
        "id": "TwCV3NJ-wI7N"
      },
      "source": [
        "# create an iterator object from that iterable\n",
        "iter_obj = iter(iterable)\n",
        "\n",
        "# infinite loop\n",
        "while True:\n",
        "    try:\n",
        "        # get the next item\n",
        "        element = next(iter_obj)\n",
        "        # do something with element\n",
        "    except StopIteration:\n",
        "        # if StopIteration is raised, break from loop\n",
        "        break"
      ],
      "execution_count": null,
      "outputs": []
    },
    {
      "cell_type": "markdown",
      "metadata": {
        "id": "PNUokNez2wvy"
      },
      "source": [
        "# Python Infinite Iterators\n",
        "It is not necessary that the item in an iterator object has to be exhausted. There can be infinite iterators (which never ends). We must be careful when handling such iterators.\n",
        "\n",
        "Here is a simple example to demonstrate infinite iterators.\n",
        "\n",
        "The built-in function iter() can be called with two arguments where the first argument must be a callable object (function) and second is the sentinel. The iterator calls this function until the returned value is equal to the sentinel."
      ]
    },
    {
      "cell_type": "code",
      "metadata": {
        "id": "_wEaYi6r2zYa"
      },
      "source": [
        ">>> int()\n",
        "0\n",
        "\n",
        ">>> infiter = iter(int,1)\n",
        ">>> next(infiter)\n",
        "0\n",
        ">>> next(infiter)\n",
        "0"
      ],
      "execution_count": null,
      "outputs": []
    },
    {
      "cell_type": "code",
      "metadata": {
        "colab": {
          "base_uri": "https://localhost:8080/"
        },
        "id": "yhf7TLXP2qHx",
        "outputId": "aee8c00a-7f5f-4fa7-b207-4fa7011b12f6"
      },
      "source": [
        "# Python program to demonstrate\n",
        "# infinite iterators\n",
        "\n",
        "import itertools\n",
        "\n",
        "# for in loop\n",
        "for i in itertools.count(5, 5):\n",
        "\tif i == 35:\n",
        "\t\tbreak\n",
        "\telse:\n",
        "\t\tprint(i, end =\" \")\n"
      ],
      "execution_count": 4,
      "outputs": [
        {
          "output_type": "stream",
          "name": "stdout",
          "text": [
            "5 10 15 20 25 30 "
          ]
        }
      ]
    },
    {
      "cell_type": "code",
      "metadata": {
        "colab": {
          "base_uri": "https://localhost:8080/"
        },
        "id": "5PlPF_PM3DXs",
        "outputId": "c5900809-66ee-4299-9f90-0a0e73d3fc64"
      },
      "source": [
        "# Python program to demonstrate\n",
        "# infinite iterators\n",
        "\n",
        "import itertools\n",
        "\n",
        "count = 0\n",
        "\n",
        "# for in loop\n",
        "for i in itertools.cycle('AB'):\n",
        "\tif count > 7:\n",
        "\t\tbreak\n",
        "\telse:\n",
        "\t\tprint(i, end = \" \")\n",
        "\t\tcount += 1\n"
      ],
      "execution_count": 5,
      "outputs": [
        {
          "output_type": "stream",
          "name": "stdout",
          "text": [
            "A B A B A B A B "
          ]
        }
      ]
    },
    {
      "cell_type": "code",
      "metadata": {
        "colab": {
          "base_uri": "https://localhost:8080/"
        },
        "id": "k7vVz9zE3ZQh",
        "outputId": "f11bd830-d468-447a-f047-cd8b3d513a29"
      },
      "source": [
        "#repeat(val, num): This iterator repeatedly prints the passed value infinite number of times. \n",
        "#If the optional keyword num is mentioned, then it repeatedly prints num number of times.\n",
        "\n",
        "# Python code to demonstrate the working of  \n",
        "# repeat() \n",
        "    \n",
        "# importing \"itertools\" for iterator operations \n",
        "import itertools \n",
        "    \n",
        "# using repeat() to repeatedly print number \n",
        "print (\"Printing the numbers repeatedly : \") \n",
        "print (list(itertools.repeat(25, 4)))"
      ],
      "execution_count": 6,
      "outputs": [
        {
          "output_type": "stream",
          "name": "stdout",
          "text": [
            "Printing the numbers repeatedly : \n",
            "[25, 25, 25, 25]\n"
          ]
        }
      ]
    },
    {
      "cell_type": "markdown",
      "metadata": {
        "id": "Lq-nKJyVU7ph"
      },
      "source": [
        "# Generators in Python\n",
        "There is a lot of work in building an iterator in Python. We have to implement a class with __ iter __() and __ next __() method, keep track of internal states, and raise StopIteration when there are no values to be returned.\n",
        "\n",
        "This is both lengthy and counterintuitive. Generator comes to the rescue in such situations.\n",
        "\n",
        "Python generators are a simple way of creating iterators. All the work we mentioned above are automatically handled by generators in Python.\n",
        "\n",
        "Simply speaking, a generator is a function that returns an object (iterator) which we can iterate over (one value at a time).\n",
        "\n",
        "It is fairly simple to create a generator in Python. It is as easy as defining a normal function, but with a yield statement instead of a return statement.\n",
        "\n",
        "If a function contains at least one yield statement (it may contain other yield or return statements), it becomes a generator function. Both yield and return will return some value from a function.\n",
        "\n",
        "The difference is that while a return statement terminates a function entirely, yield statement pauses the function saving all its states and later continues from there on successive calls.\n",
        "\n"
      ]
    },
    {
      "cell_type": "markdown",
      "metadata": {
        "id": "vP8IjjENVqxd"
      },
      "source": [
        "# Differences between Generator function and Normal function\n",
        "Here is how a generator function differs from a normal function.\n",
        "\n",
        "Generator function contains one or more yield statements.\n",
        "When called, it returns an object (iterator) but does not start execution immediately.\n",
        "Methods like __ iter __() and __ next __() are implemented automatically. So we can iterate through the items using next().\n",
        "Once the function yields, the function is paused and the control is transferred to the caller.\n",
        "Local variables and their states are remembered between successive calls.\n",
        "Finally, when the function terminates, StopIteration is raised automatically on further calls."
      ]
    },
    {
      "cell_type": "code",
      "metadata": {
        "id": "rd0tJMWSVxTD"
      },
      "source": [
        "# A simple generator function\n",
        "def my_gen():\n",
        "    n = 1\n",
        "    print('This is printed first')\n",
        "    # Generator function contains yield statements\n",
        "    yield n\n",
        "\n",
        "    n += 1\n",
        "    print('This is printed second')\n",
        "    yield n\n",
        "\n",
        "    n += 1\n",
        "    print('This is printed at last')\n",
        "    yield n"
      ],
      "execution_count": null,
      "outputs": []
    },
    {
      "cell_type": "code",
      "metadata": {
        "id": "f_k52mKeV_Vo"
      },
      "source": [
        ">>> # It returns an object but does not start execution immediately.\n",
        ">>> a = my_gen()\n",
        "\n",
        ">>> # We can iterate through the items using next().\n",
        ">>> next(a)\n",
        "This is printed first\n",
        "1\n",
        ">>> # Once the function yields, the function is paused and the control is transferred to the caller.\n",
        "\n",
        ">>> # Local variables and theirs states are remembered between successive calls.\n",
        ">>> next(a)\n",
        "This is printed second\n",
        "2\n",
        "\n",
        ">>> next(a)\n",
        "This is printed at last\n",
        "3\n",
        "\n",
        ">>> # Finally, when the function terminates, StopIteration is raised automatically on further calls.\n",
        ">>> next(a)\n",
        "Traceback (most recent call last):\n",
        "...\n",
        "StopIteration\n",
        ">>> next(a)\n",
        "Traceback (most recent call last):\n",
        "...\n",
        "StopIteration"
      ],
      "execution_count": null,
      "outputs": []
    },
    {
      "cell_type": "markdown",
      "metadata": {
        "id": "2AhG8ByMWdbR"
      },
      "source": [
        "Unlike normal functions, the local variables are not destroyed when the function yields. Furthermore, the generator object can be iterated only once.\n",
        "\n",
        "To restart the process we need to create another generator object using something like a = my_gen()."
      ]
    },
    {
      "cell_type": "markdown",
      "metadata": {
        "id": "Hmf9upmLWfVd"
      },
      "source": [
        "Final thing to note is that we can use generators with for loops directly.\n",
        "\n",
        "This is because a for loop takes an iterator and iterates over it using next() function. It automatically ends when StopIteration is raised. "
      ]
    },
    {
      "cell_type": "code",
      "metadata": {
        "colab": {
          "base_uri": "https://localhost:8080/"
        },
        "id": "nkmAgfHuWjut",
        "outputId": "ead050fe-a8de-451e-ec25-61b7610753c0"
      },
      "source": [
        "# A simple generator function\n",
        "def my_gen():\n",
        "    n = 1\n",
        "    print('This is printed first')\n",
        "    # Generator function contains yield statements\n",
        "    yield n\n",
        "\n",
        "    n += 1\n",
        "    print('This is printed second')\n",
        "    yield n\n",
        "\n",
        "    n += 1\n",
        "    print('This is printed at last')\n",
        "    yield n\n",
        "\n",
        "\n",
        "# Using for loop\n",
        "for item in my_gen():\n",
        "    print(item)"
      ],
      "execution_count": 1,
      "outputs": [
        {
          "output_type": "stream",
          "name": "stdout",
          "text": [
            "This is printed first\n",
            "1\n",
            "This is printed second\n",
            "2\n",
            "This is printed at last\n",
            "3\n"
          ]
        }
      ]
    },
    {
      "cell_type": "markdown",
      "metadata": {
        "id": "XUWb9vmsXfVL"
      },
      "source": [
        "Let's take an example of a generator that reverses a string."
      ]
    },
    {
      "cell_type": "code",
      "metadata": {
        "colab": {
          "base_uri": "https://localhost:8080/"
        },
        "id": "9761qILRXbX_",
        "outputId": "aed8f991-a897-409e-ff89-a9a154258fd7"
      },
      "source": [
        "def rev_str(my_str):\n",
        "    length = len(my_str)\n",
        "    for i in range(length - 1, -1, -1):\n",
        "        yield my_str[i]\n",
        "\n",
        "\n",
        "# For loop to reverse the string\n",
        "for char in rev_str(\"hello\"):\n",
        "    print(char)"
      ],
      "execution_count": 2,
      "outputs": [
        {
          "output_type": "stream",
          "name": "stdout",
          "text": [
            "o\n",
            "l\n",
            "l\n",
            "e\n",
            "h\n"
          ]
        }
      ]
    },
    {
      "cell_type": "markdown",
      "metadata": {
        "id": "AKlk9yJrYbz8"
      },
      "source": [
        "# Python Generator Expression\n",
        "Simple generators can be easily created on the fly using generator expressions. It makes building generators easy.\n",
        "\n",
        "Similar to the lambda functions which create anonymous functions, generator expressions create anonymous generator functions.\n",
        "\n",
        "The syntax for generator expression is similar to that of a list comprehension in Python. But the square brackets are replaced with round parentheses.\n",
        "\n",
        "The major difference between a list comprehension and a generator expression is that a list comprehension produces the entire list while the generator expression produces one item at a time.\n",
        "\n",
        "They have lazy execution ( producing items only when asked for ). For this reason, a generator expression is much more memory efficient than an equivalent list comprehension."
      ]
    },
    {
      "cell_type": "code",
      "metadata": {
        "colab": {
          "base_uri": "https://localhost:8080/"
        },
        "id": "Cfi4phF8YgZY",
        "outputId": "83db032e-48b5-4ae5-8e04-39361c0420cb"
      },
      "source": [
        "# Initialize the list\n",
        "my_list = [1, 3, 6, 10]\n",
        "\n",
        "# square each term using list comprehension\n",
        "list_ = [x**2 for x in my_list]\n",
        "\n",
        "# same thing can be done using a generator expression\n",
        "# generator expressions are surrounded by parenthesis ()\n",
        "generator = (x**2 for x in my_list)\n",
        "\n",
        "print(list_)\n",
        "print(generator)"
      ],
      "execution_count": 4,
      "outputs": [
        {
          "output_type": "stream",
          "name": "stdout",
          "text": [
            "[1, 9, 36, 100]\n",
            "<generator object <genexpr> at 0x7fd3ce02ee50>\n"
          ]
        }
      ]
    },
    {
      "cell_type": "markdown",
      "metadata": {
        "id": "2xI0BgQ5be35"
      },
      "source": [
        "We can see above that the generator expression did not produce the required result immediately. Instead, it returned a generator object, which produces items only on demand.\n",
        "\n",
        "Here is how we can start getting items from the generator:"
      ]
    },
    {
      "cell_type": "code",
      "metadata": {
        "id": "1028iCcObg0R"
      },
      "source": [
        "# Initialize the list\n",
        "my_list = [1, 3, 6, 10]\n",
        "\n",
        "a = (x**2 for x in my_list)\n",
        "print(next(a))\n",
        "\n",
        "print(next(a))\n",
        "\n",
        "print(next(a))\n",
        "\n",
        "print(next(a))\n",
        "\n",
        "next(a)"
      ],
      "execution_count": null,
      "outputs": []
    },
    {
      "cell_type": "markdown",
      "metadata": {
        "id": "NqqMD1hwbqNO"
      },
      "source": [
        "Generator expressions can be used as function arguments. When used in such a way, the round parentheses can be dropped.\n",
        "\n"
      ]
    },
    {
      "cell_type": "code",
      "metadata": {
        "id": "GNz-Gw29bue5"
      },
      "source": [
        ">>> sum(x**2 for x in my_list)\n",
        "146\n",
        "\n",
        ">>> max(x**2 for x in my_list)\n",
        "100"
      ],
      "execution_count": null,
      "outputs": []
    },
    {
      "cell_type": "markdown",
      "metadata": {
        "id": "LzCWGDoXcLWj"
      },
      "source": [
        "Generators can be implemented in a clear and concise way as compared to their iterator class counterpart. Following is an example to implement a sequence of power of 2 using an iterator class."
      ]
    },
    {
      "cell_type": "code",
      "metadata": {
        "id": "gXV9MX3jcMjk"
      },
      "source": [
        "class PowTwo:\n",
        "    def __init__(self, max=0):\n",
        "        self.n = 0\n",
        "        self.max = max\n",
        "\n",
        "    def __iter__(self):\n",
        "        return self\n",
        "\n",
        "    def __next__(self):\n",
        "        if self.n > self.max:\n",
        "            raise StopIteration\n",
        "\n",
        "        result = 2 ** self.n\n",
        "        self.n += 1\n",
        "        return result"
      ],
      "execution_count": null,
      "outputs": []
    },
    {
      "cell_type": "markdown",
      "metadata": {
        "id": "hR5kHs_ycPx8"
      },
      "source": [
        "The above program was lengthy and confusing. Now, let's do the same using a generator function."
      ]
    },
    {
      "cell_type": "markdown",
      "metadata": {
        "id": "Ze8HEKBicwAZ"
      },
      "source": [
        "Represent Infinite Stream\n",
        "Generators are excellent mediums to represent an infinite stream of data. Infinite streams cannot be stored in memory, and since generators produce only one item at a time, they can represent an infinite stream of data.\n",
        "\n",
        "The following generator function can generate all the even numbers (at least in theory)."
      ]
    },
    {
      "cell_type": "code",
      "metadata": {
        "id": "-HDMsjHZcTTs"
      },
      "source": [
        "def all_even():\n",
        "    n = 0\n",
        "    while True:\n",
        "        yield n\n",
        "        n += 2"
      ],
      "execution_count": null,
      "outputs": []
    },
    {
      "cell_type": "markdown",
      "metadata": {
        "id": "HCzFvB2mdIjV"
      },
      "source": [
        "# Pipelining Generators\n",
        "Multiple generators can be used to pipeline a series of operations. This is best illustrated using an example.\n",
        "\n",
        "Suppose we have a generator that produces the numbers in the Fibonacci series. And we have another generator for squaring numbers.\n",
        "\n",
        "If we want to find out the sum of squares of numbers in the Fibonacci series, we can do it in the following way by pipelining the output of generator functions together."
      ]
    },
    {
      "cell_type": "code",
      "metadata": {
        "colab": {
          "base_uri": "https://localhost:8080/"
        },
        "id": "kcKNGf4hdZRV",
        "outputId": "f2d819fa-ff88-4eb1-c59e-177d0a95e208"
      },
      "source": [
        "def fibonacci_numbers(nums):\n",
        "    x, y = 0, 1\n",
        "    for _ in range(nums):\n",
        "        x, y = y, x+y\n",
        "        yield x\n",
        "\n",
        "def square(nums):\n",
        "    for num in nums:\n",
        "        yield num**2\n",
        "\n",
        "print(sum(square(fibonacci_numbers(10))))"
      ],
      "execution_count": 5,
      "outputs": [
        {
          "output_type": "stream",
          "name": "stdout",
          "text": [
            "4895\n"
          ]
        }
      ]
    },
    {
      "cell_type": "markdown",
      "metadata": {
        "id": "atVtkItEdaco"
      },
      "source": [
        "This pipelining is efficient and easy to read (and yes, a lot cooler!)."
      ]
    },
    {
      "cell_type": "markdown",
      "metadata": {
        "id": "5rejTwURUF4y"
      },
      "source": [
        "## Python Closures\n",
        "Nonlocal variable in a nested function\n",
        "Before getting into what a closure is, we have to first understand what a nested function and nonlocal variable is.\n",
        "\n",
        "A function defined inside another function is called a nested function. Nested functions can access variables of the enclosing scope.\n",
        "\n",
        "In Python, these non-local variables are read-only by default and we must declare them explicitly as non-local (using nonlocal keyword) in order to modify them.\n",
        "\n",
        "Following is an example of a nested function accessing a non-local variable."
      ]
    },
    {
      "cell_type": "code",
      "metadata": {
        "colab": {
          "base_uri": "https://localhost:8080/"
        },
        "id": "gSpOpLZUUK3K",
        "outputId": "e03064fe-14af-4562-8d7c-60d083fe5eb6"
      },
      "source": [
        "def print_msg(msg):\n",
        "    # This is the outer enclosing function\n",
        "\n",
        "    def printer():\n",
        "        # This is the nested function\n",
        "        print(msg)\n",
        "\n",
        "    printer()\n",
        "\n",
        "# We execute the function\n",
        "# Output: Hello\n",
        "print_msg(\"Hello\")"
      ],
      "execution_count": 1,
      "outputs": [
        {
          "output_type": "stream",
          "name": "stdout",
          "text": [
            "Hello\n"
          ]
        }
      ]
    },
    {
      "cell_type": "markdown",
      "metadata": {
        "id": "GdPCkbLKUVv5"
      },
      "source": [
        "We can see that the nested printer() function was able to access the non-local msg variable of the enclosing function."
      ]
    },
    {
      "cell_type": "markdown",
      "metadata": {
        "id": "BDwHmgiPUc1S"
      },
      "source": [
        "Defining a Closure Function\n",
        "In the example above, what would happen if the last line of the function print_msg() returned the printer() function instead of calling it? This means the function was defined as follows:"
      ]
    },
    {
      "cell_type": "code",
      "metadata": {
        "colab": {
          "base_uri": "https://localhost:8080/"
        },
        "id": "CpgOE2LNUXND",
        "outputId": "2e773e12-a635-4f0e-e657-9d4ca3d1fc48"
      },
      "source": [
        "def print_msg(msg):\n",
        "    # This is the outer enclosing function\n",
        "\n",
        "    def printer():\n",
        "        # This is the nested function\n",
        "        print(msg)\n",
        "\n",
        "    return printer  # returns the nested function\n",
        "\n",
        "\n",
        "# Now let's try calling this function.\n",
        "# Output: Hello\n",
        "another = print_msg(\"Hello\")\n",
        "another()"
      ],
      "execution_count": 2,
      "outputs": [
        {
          "output_type": "stream",
          "name": "stdout",
          "text": [
            "Hello\n"
          ]
        }
      ]
    },
    {
      "cell_type": "markdown",
      "metadata": {
        "id": "JVv8dUaGUglh"
      },
      "source": [
        "That's unusual.\n",
        "The print_msg() function was called with the string \"Hello\" and the returned function was bound to the name another. On calling another(), the message was still remembered although we had already finished executing the print_msg() function.\n",
        "\n",
        "This technique by which some data (\"Hello in this case) gets attached to the code is called closure in Python.\n",
        "\n",
        "This value in the enclosing scope is remembered even when the variable goes out of scope or the function itself is removed from the current namespace.\n",
        "\n",
        "Try running the following in the Python shell to see the output."
      ]
    },
    {
      "cell_type": "code",
      "metadata": {
        "id": "xLtldCDEUwSm"
      },
      "source": [
        ">>> del print_msg\n",
        ">>> another()\n",
        "Hello\n",
        ">>> print_msg(\"Hello\")\n",
        "Traceback (most recent call last):\n",
        "...\n",
        "NameError: name 'print_msg' is not defined"
      ],
      "execution_count": null,
      "outputs": []
    },
    {
      "cell_type": "markdown",
      "metadata": {
        "id": "qk6DfLxoU1L4"
      },
      "source": [
        "Here, the returned function still works even when the original function was deleted."
      ]
    },
    {
      "cell_type": "markdown",
      "metadata": {
        "id": "zedeow6YU95p"
      },
      "source": [
        "# When do we have closures?\n",
        "As seen from the above example, we have a closure in Python when a nested function references a value in its enclosing scope.\n",
        "\n",
        "The criteria that must be met to create closure in Python are summarized in the following points.\n",
        "\n",
        "We must have a nested function (function inside a function).\n",
        "The nested function must refer to a value defined in the enclosing function.\n",
        "The enclosing function must return the nested function."
      ]
    },
    {
      "cell_type": "markdown",
      "metadata": {
        "id": "sSlrw7joVGT_"
      },
      "source": [
        "When to use closures?\n",
        "So what are closures good for?\n",
        "\n",
        "Closures can avoid the use of global values and provides some form of data hiding. It can also provide an object oriented solution to the problem. Python Decorators make an extensive use of closures as well.\n",
        "\n",
        "When there are few methods (one method in most cases) to be implemented in a class, closures can provide an alternate and more elegant solution. But when the number of attributes and methods get larger, it's better to implement a class.\n",
        "\n",
        "Here is a simple example where a closure might be more preferable than defining a class and making objects. But the preference is all yours."
      ]
    },
    {
      "cell_type": "markdown",
      "metadata": {
        "id": "tu2ds40BVN44"
      },
      "source": [
        "An example with class definition:"
      ]
    },
    {
      "cell_type": "code",
      "metadata": {
        "colab": {
          "base_uri": "https://localhost:8080/"
        },
        "id": "-8ObfRUtVTUr",
        "outputId": "695f77f7-dc4c-44a0-8c33-78b7c884def0"
      },
      "source": [
        "class make_multiplier_of:\n",
        "    def __init__(self,n):\n",
        "        self.n=n\n",
        "    def __call__(self,x):\n",
        "        return self.n*x\n",
        "\n",
        "# Multiplier of 3\n",
        "times3 = make_multiplier_of(3)\n",
        "\n",
        "# Multiplier of 5\n",
        "times5 = make_multiplier_of(5)\n",
        "\n",
        "# Output: 27\n",
        "print(times3(9))\n",
        "\n",
        "# Output: 15\n",
        "print(times5(3))\n",
        "\n",
        "# Output: 30\n",
        "print(times5(times3(2)))\n",
        "\n"
      ],
      "execution_count": 4,
      "outputs": [
        {
          "output_type": "stream",
          "name": "stdout",
          "text": [
            "27\n",
            "15\n",
            "30\n"
          ]
        }
      ]
    },
    {
      "cell_type": "markdown",
      "metadata": {
        "id": "-3pLxwfdWBtB"
      },
      "source": [
        "same functionality with closure function:"
      ]
    },
    {
      "cell_type": "code",
      "metadata": {
        "colab": {
          "base_uri": "https://localhost:8080/"
        },
        "id": "N8CdhZFPU0IQ",
        "outputId": "1f755f2a-44d5-48ad-b8dc-6b2e0f42abfe"
      },
      "source": [
        "def make_multiplier_of(n):\n",
        "    def multiplier(x):\n",
        "        return x * n\n",
        "    return multiplier\n",
        "\n",
        "\n",
        "# Multiplier of 3\n",
        "times3 = make_multiplier_of(3)\n",
        "\n",
        "# Multiplier of 5\n",
        "times5 = make_multiplier_of(5)\n",
        "\n",
        "# Output: 27\n",
        "print(times3(9))\n",
        "\n",
        "# Output: 15\n",
        "print(times5(3))\n",
        "\n",
        "# Output: 30\n",
        "print(times5(times3(2)))"
      ],
      "execution_count": 5,
      "outputs": [
        {
          "output_type": "stream",
          "name": "stdout",
          "text": [
            "27\n",
            "15\n",
            "30\n"
          ]
        }
      ]
    },
    {
      "cell_type": "markdown",
      "metadata": {
        "id": "rjMOVRBeVpn5"
      },
      "source": [
        "# __ closure __ attribute:\n",
        "\n",
        "All function objects have a __ closure __ attribute that returns a tuple of cell objects if it is a closure function. Referring to the example above, we know times3 and times5 are closure functions."
      ]
    },
    {
      "cell_type": "code",
      "metadata": {
        "id": "nqOHCJ8FVwTX"
      },
      "source": [
        ">>> make_multiplier_of.__closure__\n",
        ">>> times3.__closure__\n",
        "(<cell at 0x0000000002D155B8: int object at 0x000000001E39B6E0>,)"
      ],
      "execution_count": null,
      "outputs": []
    },
    {
      "cell_type": "markdown",
      "metadata": {
        "id": "z8pwdQrlWT3w"
      },
      "source": [
        "The cell object has the attribute cell_contents which stores the closed value."
      ]
    },
    {
      "cell_type": "code",
      "metadata": {
        "id": "aiMOuXNyWUyO"
      },
      "source": [
        ">>> times3.__closure__[0].cell_contents\n",
        "3\n",
        ">>> times5.__closure__[0].cell_contents\n",
        "5"
      ],
      "execution_count": null,
      "outputs": []
    },
    {
      "cell_type": "markdown",
      "metadata": {
        "id": "76IH2SkQZY5n"
      },
      "source": [
        "Another example:"
      ]
    },
    {
      "cell_type": "code",
      "metadata": {
        "colab": {
          "base_uri": "https://localhost:8080/"
        },
        "id": "npq46Bq1ZYAg",
        "outputId": "5ad73aea-8535-4f9a-9bdf-8438feb693ca"
      },
      "source": [
        "# Python program to illustrate\n",
        "# closures\n",
        "import logging\n",
        "logging.basicConfig(filename='example.log',\n",
        "\t\t\t\t\tlevel=logging.INFO)\n",
        "\n",
        "\n",
        "def logger(func):\n",
        "\tdef log_func(*args):\n",
        "\t\tlogging.info(\n",
        "\t\t\t'Running \"{}\" with arguments {}'.format(func.__name__,\n",
        "\t\t\t\t\t\t\t\t\t\t\t\t\targs))\n",
        "\t\tprint(func(*args))\n",
        "\t\t\n",
        "\t# Necessary for closure to\n",
        "\t# work (returning WITHOUT parenthesis)\n",
        "\treturn log_func\t\t\t\n",
        "\n",
        "def add(x, y):\n",
        "\treturn x+y\n",
        "\n",
        "def sub(x, y):\n",
        "\treturn x-y\n",
        "\n",
        "add_logger = logger(add)\n",
        "sub_logger = logger(sub)\n",
        "\n",
        "add_logger(3, 3)\n",
        "add_logger(4, 5)\n",
        "\n",
        "sub_logger(10, 5)\n",
        "sub_logger(20, 10)\n",
        "\n"
      ],
      "execution_count": 6,
      "outputs": [
        {
          "output_type": "stream",
          "name": "stdout",
          "text": [
            "6\n",
            "9\n",
            "5\n",
            "10\n"
          ]
        }
      ]
    },
    {
      "cell_type": "code",
      "metadata": {
        "colab": {
          "base_uri": "https://localhost:8080/"
        },
        "id": "mw3LpGkXZe9w",
        "outputId": "44d9dc0f-0fa7-44b2-e85c-2066efee37f0"
      },
      "source": [
        "add_logger.__closure__[0].cell_contents"
      ],
      "execution_count": 7,
      "outputs": [
        {
          "output_type": "execute_result",
          "data": {
            "text/plain": [
              "<function __main__.add>"
            ]
          },
          "metadata": {},
          "execution_count": 7
        }
      ]
    },
    {
      "cell_type": "code",
      "metadata": {
        "colab": {
          "base_uri": "https://localhost:8080/"
        },
        "id": "Y72D81waZjp-",
        "outputId": "c5b5b8af-cc36-4f4f-925a-c0732b471430"
      },
      "source": [
        "sub_logger.__closure__[0].cell_contents"
      ],
      "execution_count": 8,
      "outputs": [
        {
          "output_type": "execute_result",
          "data": {
            "text/plain": [
              "<function __main__.sub>"
            ]
          },
          "metadata": {},
          "execution_count": 8
        }
      ]
    },
    {
      "cell_type": "markdown",
      "metadata": {
        "id": "1nhz3wnjqoFE"
      },
      "source": [
        "## Decorators\n",
        "Functions and methods are called callable as they can be called.\n",
        "\n",
        "In fact, any object which implements the special __call__() method is termed callable. So, in the most basic sense, a decorator is a callable that returns a callable.\n",
        "\n",
        "Basically, a decorator takes in a function, adds some functionality and returns it."
      ]
    },
    {
      "cell_type": "code",
      "metadata": {
        "id": "NqIfVvrRqrEN"
      },
      "source": [
        "def make_pretty(func):\n",
        "    def inner():\n",
        "        print(\"I got decorated\")\n",
        "        func()\n",
        "    return inner\n",
        "\n",
        "\n",
        "def ordinary():\n",
        "    print(\"I am ordinary\")\n",
        "\n",
        "pretty = make_pretty(ordinary)"
      ],
      "execution_count": null,
      "outputs": []
    },
    {
      "cell_type": "markdown",
      "metadata": {
        "id": "Dobbn_gerG4C"
      },
      "source": [
        "In the example shown above, make_pretty() is a decorator. The function ordinary() got decorated and the returned function was given the name pretty.\n",
        "\n",
        "We can see that the decorator function added some new functionality to the original function. This is similar to packing a gift. The decorator acts as a wrapper. The nature of the object that got decorated (actual gift inside) does not alter. But now, it looks pretty (since it got decorated)."
      ]
    },
    {
      "cell_type": "markdown",
      "metadata": {
        "id": "AX2hTrrWrVKb"
      },
      "source": [
        "This is a common construct and for this reason, Python has a syntax to simplify this.\n",
        "\n",
        "We can use the @ symbol along with the name of the decorator function and place it above the definition of the function to be decorated. For example,"
      ]
    },
    {
      "cell_type": "code",
      "metadata": {
        "id": "XwyAgY-nrZpu"
      },
      "source": [
        "@make_pretty\n",
        "def ordinary():\n",
        "    print(\"I am ordinary\")"
      ],
      "execution_count": null,
      "outputs": []
    },
    {
      "cell_type": "markdown",
      "metadata": {
        "id": "Nx5Jv4QNreDs"
      },
      "source": [
        "This is just a syntactic sugar to implement decorators."
      ]
    },
    {
      "cell_type": "markdown",
      "metadata": {
        "id": "FK0FAc5Zrr8X"
      },
      "source": [
        "# Decorating Functions with Parameters\n",
        "The above decorator was simple and it only worked with functions that did not have any parameters. What if we had functions that took in parameters. In Python, this magic is done as function(*args, **kwargs). In this way, args will be the tuple of positional arguments and kwargs will be the dictionary of keyword arguments. An example of such a decorator will be:"
      ]
    },
    {
      "cell_type": "code",
      "metadata": {
        "id": "6ibYNmVgryzj"
      },
      "source": [
        "def works_for_all(func):\n",
        "    def inner(*args, **kwargs):\n",
        "        print(\"I can decorate any function\")\n",
        "        return func(*args, **kwargs)\n",
        "    return inner"
      ],
      "execution_count": 1,
      "outputs": []
    },
    {
      "cell_type": "markdown",
      "metadata": {
        "id": "A1TguW5bzhkD"
      },
      "source": [
        "# Chaining Decorators in Python\n",
        "Multiple decorators can be chained in Python.\n",
        "\n",
        "This is to say, a function can be decorated multiple times with different (or same) decorators. We simply place the decorators above the desired function.\n",
        "\n"
      ]
    },
    {
      "cell_type": "code",
      "metadata": {
        "colab": {
          "base_uri": "https://localhost:8080/"
        },
        "id": "R-4ydZlI2Hk9",
        "outputId": "eff840c9-c768-4958-b191-27e95e8924b2"
      },
      "source": [
        "def star(func):\n",
        "    def inner(*args, **kwargs):\n",
        "        print(\"*\" * 30)\n",
        "        func(*args, **kwargs)\n",
        "        print(\"*\" * 30)\n",
        "    return inner\n",
        "\n",
        "\n",
        "def percent(func):\n",
        "    def inner(*args, **kwargs):\n",
        "        print(\"%\" * 30)\n",
        "        func(*args, **kwargs)\n",
        "        print(\"%\" * 30)\n",
        "    return inner\n",
        "\n",
        "\n",
        "@star\n",
        "@percent\n",
        "def printer(msg):\n",
        "    print(msg)\n",
        "\n",
        "\n",
        "printer(\"Hello\")"
      ],
      "execution_count": 12,
      "outputs": [
        {
          "output_type": "stream",
          "name": "stdout",
          "text": [
            "******************************\n",
            "%%%%%%%%%%%%%%%%%%%%%%%%%%%%%%\n",
            "Hello\n",
            "%%%%%%%%%%%%%%%%%%%%%%%%%%%%%%\n",
            "******************************\n"
          ]
        }
      ]
    },
    {
      "cell_type": "code",
      "metadata": {
        "colab": {
          "base_uri": "https://localhost:8080/"
        },
        "id": "96VoT1_ITPTq",
        "outputId": "850bacde-792b-4211-a232-fc03c883732f"
      },
      "source": [
        "help(printer)"
      ],
      "execution_count": 13,
      "outputs": [
        {
          "output_type": "stream",
          "name": "stdout",
          "text": [
            "Help on function inner in module __main__:\n",
            "\n",
            "inner(*args, **kwargs)\n",
            "\n"
          ]
        }
      ]
    },
    {
      "cell_type": "markdown",
      "metadata": {
        "id": "8iDfOtUySn__"
      },
      "source": [
        "after being decorated, printer() has gotten very confused about its identity. It now reports being the inner() inner function inside the star() decorator. Although technically true, this is not very useful information.\n",
        "\n",
        "To fix this, decorators should use the @functools.wraps decorator, which will preserve information about the original function. Update decorators.py\n",
        "\n",
        "To fix this, decorators should use the @functools.wraps decorator, which will preserve information about the original function. Update decorators.py again:"
      ]
    },
    {
      "cell_type": "code",
      "metadata": {
        "colab": {
          "base_uri": "https://localhost:8080/"
        },
        "id": "EAz0ihJQT5wZ",
        "outputId": "f5ef5347-2132-4153-bad7-6d00dde602d7"
      },
      "source": [
        "import functools\n",
        "def star(func):\n",
        "    @functools.wraps(func)\n",
        "    def inner(*args, **kwargs):\n",
        "        print(\"*\" * 30)\n",
        "        func(*args, **kwargs)\n",
        "        print(\"*\" * 30)\n",
        "    return inner\n",
        "\n",
        "\n",
        "def percent(func):\n",
        "    @functools.wraps(func)\n",
        "    def inner(*args, **kwargs):\n",
        "        print(\"%\" * 30)\n",
        "        func(*args, **kwargs)\n",
        "        print(\"%\" * 30)\n",
        "    return inner\n",
        "\n",
        "\n",
        "@star\n",
        "@percent\n",
        "def printer(msg):\n",
        "    print(msg)\n",
        "\n",
        "\n",
        "printer(\"Hello\")"
      ],
      "execution_count": 14,
      "outputs": [
        {
          "output_type": "stream",
          "name": "stdout",
          "text": [
            "******************************\n",
            "%%%%%%%%%%%%%%%%%%%%%%%%%%%%%%\n",
            "Hello\n",
            "%%%%%%%%%%%%%%%%%%%%%%%%%%%%%%\n",
            "******************************\n"
          ]
        }
      ]
    },
    {
      "cell_type": "code",
      "metadata": {
        "colab": {
          "base_uri": "https://localhost:8080/"
        },
        "id": "0PJ9RWxwUJDv",
        "outputId": "719b22d1-64f1-43c6-df86-d0097b7e6167"
      },
      "source": [
        "help(printer)"
      ],
      "execution_count": 15,
      "outputs": [
        {
          "output_type": "stream",
          "name": "stdout",
          "text": [
            "Help on function printer in module __main__:\n",
            "\n",
            "printer(msg)\n",
            "\n"
          ]
        }
      ]
    },
    {
      "cell_type": "markdown",
      "metadata": {
        "id": "EMANtNuKPbBv"
      },
      "source": [
        "# The @property Decorator\n",
        "In this tutorial, you will learn about Python @property decorator; a pythonic way to use getters and setters in object-oriented programming.\n",
        "\n",
        "@property decorator is a built-in decorator in Python which is helpful in defining the properties effortlessly without manually calling the inbuilt function property(). Which is used to return the property attributes of a class from the stated getter, setter and deleter as parameters.\n",
        "\n",
        "o begin with, properties aren’t exactly the same concept as attributes in Python. Essentially, properties are decorated functions. And through the decoration, regular functions are converted into properties, which can be used as attributes, such as supporting the dot-notation access.\n",
        "Thus, strictly speaking, creating a property isn’t really creating a lazy attribute itself. Instead, it’s just a matter of providing an interface to ease data handling."
      ]
    },
    {
      "cell_type": "code",
      "metadata": {
        "id": "Spd7voV9TwJ7"
      },
      "source": [
        ""
      ],
      "execution_count": null,
      "outputs": []
    },
    {
      "cell_type": "code",
      "metadata": {
        "colab": {
          "base_uri": "https://localhost:8080/"
        },
        "id": "NMenKuCKP1RS",
        "outputId": "52a83001-a8cc-4cdd-bdc0-08b0ed81df21"
      },
      "source": [
        "# Using @property decorator\n",
        "class Celsius:\n",
        "    def __init__(self, temperature=0):\n",
        "        self._temperature = temperature\n",
        "\n",
        "    def to_fahrenheit(self):\n",
        "        return (self._temperature * 1.8) + 32\n",
        "\n",
        "    @property\n",
        "    def temperature(self):\n",
        "        print(\"Getting value...\")\n",
        "        return self._temperature\n",
        "\n",
        "    @temperature.setter\n",
        "    def temperature(self, value):\n",
        "        print(\"Setting value...\")\n",
        "        if value < -273.15:\n",
        "            raise ValueError(\"Temperature below -273 is not possible\")\n",
        "        self._temperature = value\n",
        "\n",
        "\n",
        "# create an object\n",
        "human = Celsius(37)\n",
        "\n",
        "print(human.temperature)\n",
        "\n",
        "print(human.to_fahrenheit())\n",
        "\n",
        "#coldest_thing = Celsius(-300)"
      ],
      "execution_count": 18,
      "outputs": [
        {
          "output_type": "stream",
          "name": "stdout",
          "text": [
            "Getting value...\n",
            "37\n",
            "98.60000000000001\n"
          ]
        }
      ]
    },
    {
      "cell_type": "markdown",
      "metadata": {
        "id": "tWduIXl7RVOU"
      },
      "source": [
        "Another example:"
      ]
    },
    {
      "cell_type": "code",
      "metadata": {
        "colab": {
          "base_uri": "https://localhost:8080/"
        },
        "id": "1Iz0qbjmP1GH",
        "outputId": "99d25c9c-eec5-4ffd-9000-875befa1bf32"
      },
      "source": [
        "# Python program to explain property()\n",
        "# function using decorator\n",
        "\n",
        "class Alphabet:\n",
        "\tdef __init__(self, value):\n",
        "\t\tself._value = value\n",
        "\n",
        "\t# getting the values\n",
        "\t@property\n",
        "\tdef value(self):\n",
        "\t\tprint('Getting value')\n",
        "\t\treturn self._value\n",
        "\n",
        "\t# setting the values\n",
        "\t@value.setter\n",
        "\tdef value(self, value):\n",
        "\t\tprint('Setting value to ' + value)\n",
        "\t\tself._value = value\n",
        "\n",
        "\t# deleting the values\n",
        "\t@value.deleter\n",
        "\tdef value(self):\n",
        "\t\tprint('Deleting value')\n",
        "\t\tdel self._value\n",
        "\n",
        "\n",
        "# passing the value\n",
        "x = Alphabet('Peter')\n",
        "print(x.value)\n",
        "\n",
        "x.value = 'Diesel'\n",
        "\n",
        "del x.value\n"
      ],
      "execution_count": 11,
      "outputs": [
        {
          "output_type": "stream",
          "name": "stdout",
          "text": [
            "Setting value to Peter\n",
            "Getting value\n",
            "Peter\n",
            "Setting value to Diesel\n",
            "Deleting value\n"
          ]
        }
      ]
    },
    {
      "cell_type": "code",
      "metadata": {
        "id": "vXtRzqJiP04L"
      },
      "source": [
        ""
      ],
      "execution_count": null,
      "outputs": []
    },
    {
      "cell_type": "code",
      "metadata": {
        "id": "Wd7Ka5aOPdOF"
      },
      "source": [
        ""
      ],
      "execution_count": null,
      "outputs": []
    }
  ]
}