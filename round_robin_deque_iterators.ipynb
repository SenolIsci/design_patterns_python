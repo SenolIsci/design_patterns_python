{
  "nbformat": 4,
  "nbformat_minor": 0,
  "metadata": {
    "colab": {
      "name": "Untitled22.ipynb",
      "provenance": [],
      "authorship_tag": "ABX9TyMHH9BltpkgLIJr61fq5MTw",
      "include_colab_link": true
    },
    "kernelspec": {
      "name": "python3",
      "display_name": "Python 3"
    },
    "language_info": {
      "name": "python"
    }
  },
  "cells": [
    {
      "cell_type": "markdown",
      "metadata": {
        "id": "view-in-github",
        "colab_type": "text"
      },
      "source": [
        "<a href=\"https://colab.research.google.com/github/SenolIsci/design_patterns_python/blob/main/round_robin_deque_iterators.ipynb\" target=\"_parent\"><img src=\"https://colab.research.google.com/assets/colab-badge.svg\" alt=\"Open In Colab\"/></a>"
      ]
    },
    {
      "cell_type": "code",
      "metadata": {
        "colab": {
          "base_uri": "https://localhost:8080/"
        },
        "id": "BiqjUpkI0O0f",
        "outputId": "4fd4436f-1242-4186-ef49-5810f7d22240"
      },
      "source": [
        "from collections import deque\n",
        "def roundrobin(*iterables):\n",
        "    \"roundrobin('ABC', 'D', 'EF') --> A D E B F C\"\n",
        "    iterators = deque(map(iter, iterables))\n",
        "    while iterators:\n",
        "        try:\n",
        "            while True:\n",
        "                yield next(iterators[0])\n",
        "                iterators.rotate(-1)\n",
        "        except StopIteration:\n",
        "            # Remove an exhausted iterator.\n",
        "            iterators.popleft()\n",
        "\n",
        "            \n",
        "print(list(roundrobin('ABC', 'D', 'EF')))"
      ],
      "execution_count": 3,
      "outputs": [
        {
          "output_type": "stream",
          "name": "stdout",
          "text": [
            "['A', 'D', 'E', 'B', 'F', 'C']\n"
          ]
        }
      ]
    }
  ]
}